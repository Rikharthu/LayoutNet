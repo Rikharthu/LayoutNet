{
 "cells": [
  {
   "cell_type": "code",
   "execution_count": 1,
   "metadata": {
    "ExecuteTime": {
     "end_time": "2023-07-30T15:44:27.427126269Z",
     "start_time": "2023-07-30T15:44:26.875445026Z"
    }
   },
   "outputs": [],
   "source": [
    "from scipy.io import loadmat, savemat\n",
    "import numpy as np\n",
    "import matplotlib.pyplot as plt\n",
    "from PIL import Image\n",
    "import mat73\n",
    "import os\n",
    "from pprint import pprint"
   ]
  },
  {
   "cell_type": "code",
   "execution_count": 13,
   "metadata": {
    "ExecuteTime": {
     "end_time": "2023-07-30T15:49:49.071694253Z",
     "start_time": "2023-07-30T15:49:48.556313692Z"
    }
   },
   "outputs": [
    {
     "data": {
      "text/plain": "[0, 1, 4, 5, 6, 9]"
     },
     "execution_count": 13,
     "metadata": {},
     "output_type": "execute_result"
    }
   ],
   "source": [
    "# type_dir_path = './result/res_lsun_ts_512_joint/type'\n",
    "type_dir_path = '/home/richard/Development/pytorch-layoutnet-perspective/res/lsun_tr/type'\n",
    "\n",
    "room_type_to_indices = {}\n",
    "\n",
    "for f in sorted(os.listdir(type_dir_path)):\n",
    "    type_mat = loadmat(os.path.join(type_dir_path, f))\n",
    "    room_type = type_mat['x'].mean(axis=0).argmax()\n",
    "\n",
    "    if room_type not in room_type_to_indices:\n",
    "        room_type_to_indices[room_type] = [f]\n",
    "    else:\n",
    "        room_type_to_indices[room_type].append(f)\n",
    "\n",
    "list(sorted(room_type_to_indices.keys()))"
   ]
  },
  {
   "cell_type": "code",
   "execution_count": 15,
   "metadata": {
    "ExecuteTime": {
     "end_time": "2023-07-30T15:54:57.748150250Z",
     "start_time": "2023-07-30T15:54:57.706272080Z"
    }
   },
   "outputs": [
    {
     "data": {
      "text/plain": "['1013.mat',\n '1015.mat',\n '1028.mat',\n '1073.mat',\n '1076.mat',\n '1120.mat',\n '1186.mat',\n '1224.mat',\n '123.mat',\n '1242.mat',\n '1263.mat',\n '1270.mat',\n '1271.mat',\n '1285.mat',\n '131.mat',\n '135.mat',\n '1409.mat',\n '141.mat',\n '1433.mat',\n '1451.mat',\n '1466.mat',\n '1524.mat',\n '154.mat',\n '1587.mat',\n '1617.mat',\n '1627.mat',\n '1646.mat',\n '166.mat',\n '1663.mat',\n '1777.mat',\n '1915.mat',\n '1925.mat',\n '1967.mat',\n '2023.mat',\n '2056.mat',\n '206.mat',\n '2179.mat',\n '2181.mat',\n '2284.mat',\n '2291.mat',\n '2331.mat',\n '2335.mat',\n '2445.mat',\n '2490.mat',\n '2545.mat',\n '2573.mat',\n '258.mat',\n '2671.mat',\n '2695.mat',\n '2727.mat',\n '2800.mat',\n '2804.mat',\n '283.mat',\n '2842.mat',\n '287.mat',\n '2969.mat',\n '2978.mat',\n '2979.mat',\n '3021.mat',\n '3024.mat',\n '3047.mat',\n '3078.mat',\n '3095.mat',\n '3106.mat',\n '3109.mat',\n '3112.mat',\n '3121.mat',\n '3156.mat',\n '317.mat',\n '3190.mat',\n '3239.mat',\n '3262.mat',\n '327.mat',\n '3271.mat',\n '329.mat',\n '3291.mat',\n '3324.mat',\n '3359.mat',\n '3366.mat',\n '3379.mat',\n '3393.mat',\n '3406.mat',\n '3456.mat',\n '3481.mat',\n '3500.mat',\n '3504.mat',\n '3531.mat',\n '3543.mat',\n '356.mat',\n '3576.mat',\n '3580.mat',\n '3594.mat',\n '3611.mat',\n '3622.mat',\n '3642.mat',\n '3685.mat',\n '3706.mat',\n '3788.mat',\n '3790.mat',\n '3802.mat',\n '3819.mat',\n '3842.mat',\n '3957.mat',\n '3960.mat',\n '3979.mat',\n '3997.mat',\n '416.mat',\n '444.mat',\n '459.mat',\n '462.mat',\n '478.mat',\n '48.mat',\n '5.mat',\n '51.mat',\n '517.mat',\n '521.mat',\n '522.mat',\n '527.mat',\n '570.mat',\n '597.mat',\n '598.mat',\n '6.mat',\n '608.mat',\n '649.mat',\n '668.mat',\n '680.mat',\n '713.mat',\n '733.mat',\n '735.mat',\n '759.mat',\n '784.mat',\n '876.mat',\n '935.mat']"
     },
     "execution_count": 15,
     "metadata": {},
     "output_type": "execute_result"
    }
   ],
   "source": [
    "sorted(room_type_to_indices[1])"
   ]
  },
  {
   "cell_type": "code",
   "execution_count": 8,
   "metadata": {},
   "outputs": [
    {
     "data": {
      "text/plain": [
       "[3,\n",
       " 17,\n",
       " 22,\n",
       " 40,\n",
       " 53,\n",
       " 55,\n",
       " 60,\n",
       " 70,\n",
       " 79,\n",
       " 80,\n",
       " 83,\n",
       " 85,\n",
       " 86,\n",
       " 90,\n",
       " 104,\n",
       " 127,\n",
       " 135,\n",
       " 153,\n",
       " 154,\n",
       " 162,\n",
       " 179,\n",
       " 202,\n",
       " 225,\n",
       " 234,\n",
       " 237,\n",
       " 253,\n",
       " 261,\n",
       " 267,\n",
       " 270,\n",
       " 272,\n",
       " 275,\n",
       " 284,\n",
       " 285,\n",
       " 286,\n",
       " 303,\n",
       " 311,\n",
       " 333,\n",
       " 337,\n",
       " 338,\n",
       " 351,\n",
       " 359,\n",
       " 367,\n",
       " 369,\n",
       " 377,\n",
       " 384,\n",
       " 394]"
      ]
     },
     "execution_count": 8,
     "metadata": {},
     "output_type": "execute_result"
    }
   ],
   "source": [
    "room_type_to_indices[0]"
   ]
  },
  {
   "cell_type": "code",
   "execution_count": null,
   "metadata": {},
   "outputs": [],
   "source": []
  }
 ],
 "metadata": {
  "kernelspec": {
   "display_name": "layoutnet-perspective",
   "language": "python",
   "name": "python3"
  },
  "language_info": {
   "codemirror_mode": {
    "name": "ipython",
    "version": 3
   },
   "file_extension": ".py",
   "mimetype": "text/x-python",
   "name": "python",
   "nbconvert_exporter": "python",
   "pygments_lexer": "ipython3",
   "version": "3.11.4"
  },
  "orig_nbformat": 4
 },
 "nbformat": 4,
 "nbformat_minor": 2
}
