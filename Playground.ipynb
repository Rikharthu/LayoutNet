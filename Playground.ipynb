{
 "cells": [
  {
   "cell_type": "code",
   "execution_count": 9,
   "metadata": {},
   "outputs": [],
   "source": [
    "from scipy.io import loadmat, savemat\n",
    "import numpy as np\n",
    "import matplotlib.pyplot as plt\n",
    "from PIL import Image\n",
    "import mat73\n",
    "import os\n",
    "from pprint import pprint"
   ]
  },
  {
   "cell_type": "code",
   "execution_count": 13,
   "metadata": {},
   "outputs": [
    {
     "ename": "KeyError",
     "evalue": "'x'",
     "output_type": "error",
     "traceback": [
      "\u001b[0;31m---------------------------------------------------------------------------\u001b[0m",
      "\u001b[0;31mKeyError\u001b[0m                                  Traceback (most recent call last)",
      "Cell \u001b[0;32mIn[13], line 8\u001b[0m\n\u001b[1;32m      6\u001b[0m \u001b[39mfor\u001b[39;00m f \u001b[39min\u001b[39;00m os\u001b[39m.\u001b[39mlistdir(type_dir_path):\n\u001b[1;32m      7\u001b[0m     type_mat \u001b[39m=\u001b[39m loadmat(os\u001b[39m.\u001b[39mpath\u001b[39m.\u001b[39mjoin(type_dir_path, f))\n\u001b[0;32m----> 8\u001b[0m     room_type \u001b[39m=\u001b[39m type_mat[\u001b[39m'\u001b[39;49m\u001b[39mx\u001b[39;49m\u001b[39m'\u001b[39;49m]\u001b[39m.\u001b[39mmean(axis\u001b[39m=\u001b[39m\u001b[39m0\u001b[39m)\u001b[39m.\u001b[39margmax()\n\u001b[1;32m     10\u001b[0m     \u001b[39mif\u001b[39;00m room_type \u001b[39mnot\u001b[39;00m \u001b[39min\u001b[39;00m room_type_to_indices:\n\u001b[1;32m     11\u001b[0m         room_type_to_indices[room_type] \u001b[39m=\u001b[39m [f]\n",
      "\u001b[0;31mKeyError\u001b[0m: 'x'"
     ]
    }
   ],
   "source": [
    "# type_dir_path = './result/res_lsun_ts_512_joint/type'\n",
    "type_dir_path = './data/lsun_val/type/'\n",
    "\n",
    "room_type_to_indices = {}\n",
    "\n",
    "for idx in range(1, len(os.listdir(type_dir_path))):\n",
    "    type_mat = loadmat(os.path.join(type_dir_path, '{idx}.mat'))\n",
    "    room_type = type_mat['x'].mean(axis=0).argmax()\n",
    "\n",
    "    if room_type not in room_type_to_indices:\n",
    "        room_type_to_indices[room_type] = [idx]\n",
    "    else:\n",
    "        room_type_to_indices[room_type].append(idx)\n",
    "\n",
    "list(sorted(room_type_to_indices.keys()))"
   ]
  },
  {
   "cell_type": "code",
   "execution_count": 15,
   "metadata": {},
   "outputs": [
    {
     "data": {
      "text/plain": [
       "{'__header__': b'MATLAB 5.0 MAT-file, Platform: GLNXA64, Created on: Tue Nov  7 19:23:43 2017',\n",
       " '__version__': '1.0',\n",
       " '__globals__': [],\n",
       " 'id': array([[6]], dtype=uint8)}"
      ]
     },
     "execution_count": 15,
     "metadata": {},
     "output_type": "execute_result"
    }
   ],
   "source": [
    "type_mat"
   ]
  },
  {
   "cell_type": "code",
   "execution_count": 7,
   "metadata": {},
   "outputs": [
    {
     "data": {
      "text/plain": [
       "[107, 149, 156, 211]"
      ]
     },
     "execution_count": 7,
     "metadata": {},
     "output_type": "execute_result"
    }
   ],
   "source": [
    "room_type_to_indices[9]"
   ]
  },
  {
   "cell_type": "code",
   "execution_count": 8,
   "metadata": {},
   "outputs": [
    {
     "data": {
      "text/plain": [
       "[3,\n",
       " 17,\n",
       " 22,\n",
       " 40,\n",
       " 53,\n",
       " 55,\n",
       " 60,\n",
       " 70,\n",
       " 79,\n",
       " 80,\n",
       " 83,\n",
       " 85,\n",
       " 86,\n",
       " 90,\n",
       " 104,\n",
       " 127,\n",
       " 135,\n",
       " 153,\n",
       " 154,\n",
       " 162,\n",
       " 179,\n",
       " 202,\n",
       " 225,\n",
       " 234,\n",
       " 237,\n",
       " 253,\n",
       " 261,\n",
       " 267,\n",
       " 270,\n",
       " 272,\n",
       " 275,\n",
       " 284,\n",
       " 285,\n",
       " 286,\n",
       " 303,\n",
       " 311,\n",
       " 333,\n",
       " 337,\n",
       " 338,\n",
       " 351,\n",
       " 359,\n",
       " 367,\n",
       " 369,\n",
       " 377,\n",
       " 384,\n",
       " 394]"
      ]
     },
     "execution_count": 8,
     "metadata": {},
     "output_type": "execute_result"
    }
   ],
   "source": [
    "room_type_to_indices[0]"
   ]
  },
  {
   "cell_type": "code",
   "execution_count": null,
   "metadata": {},
   "outputs": [],
   "source": []
  }
 ],
 "metadata": {
  "kernelspec": {
   "display_name": "layoutnet-perspective",
   "language": "python",
   "name": "python3"
  },
  "language_info": {
   "codemirror_mode": {
    "name": "ipython",
    "version": 3
   },
   "file_extension": ".py",
   "mimetype": "text/x-python",
   "name": "python",
   "nbconvert_exporter": "python",
   "pygments_lexer": "ipython3",
   "version": "3.11.4"
  },
  "orig_nbformat": 4
 },
 "nbformat": 4,
 "nbformat_minor": 2
}
