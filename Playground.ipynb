{
 "cells": [
  {
   "cell_type": "code",
   "execution_count": 14,
   "metadata": {
    "ExecuteTime": {
     "end_time": "2023-07-31T07:59:32.219879043Z",
     "start_time": "2023-07-31T07:59:31.739111995Z"
    }
   },
   "outputs": [],
   "source": [
    "from scipy.io import loadmat, savemat\n",
    "import numpy as np\n",
    "import matplotlib.pyplot as plt\n",
    "from PIL import Image\n",
    "import mat73\n",
    "import os\n",
    "from pprint import pprint"
   ]
  },
  {
   "cell_type": "code",
   "execution_count": 15,
   "metadata": {
    "ExecuteTime": {
     "end_time": "2023-08-01T18:17:12.495282400Z",
     "start_time": "2023-08-01T18:17:11.737253233Z"
    }
   },
   "outputs": [
    {
     "data": {
      "text/plain": [
       "[0, 1, 2, 3, 4, 5, 6, 7, 8, 9, 10]"
      ]
     },
     "execution_count": 15,
     "metadata": {},
     "output_type": "execute_result"
    }
   ],
   "source": [
    "type_dir_path = '/Users/richardkuodis/development/pytorch-layoutnet/res/lsun_tr_gt/type'\n",
    "\n",
    "def is_mat_file(f):\n",
    "    return f.split('.')[-1] == 'mat'\n",
    "\n",
    "room_type_to_indices = {}\n",
    "\n",
    "for f in sorted(filter(is_mat_file, os.listdir(type_dir_path))):\n",
    "    type_mat = loadmat(os.path.join(type_dir_path, f))\n",
    "    room_type = type_mat['x'].mean(axis=0).argmax()\n",
    "    # room_type = int(type_mat['id'].squeeze())\n",
    "\n",
    "    if room_type not in room_type_to_indices:\n",
    "        room_type_to_indices[room_type] = [f]\n",
    "    else:\n",
    "        room_type_to_indices[room_type].append(f)\n",
    "\n",
    "list(sorted(room_type_to_indices.keys()))"
   ]
  },
  {
   "cell_type": "code",
   "execution_count": 16,
   "metadata": {
    "ExecuteTime": {
     "end_time": "2023-08-01T18:20:56.386403929Z",
     "start_time": "2023-08-01T18:20:56.352358660Z"
    }
   },
   "outputs": [
    {
     "data": {
      "text/plain": [
       "['1076.mat', '1790.mat', '2023.mat', '206.mat', '784.mat']"
      ]
     },
     "execution_count": 16,
     "metadata": {},
     "output_type": "execute_result"
    }
   ],
   "source": [
    "sorted(room_type_to_indices[7])"
   ]
  },
  {
   "cell_type": "code",
   "execution_count": 17,
   "metadata": {},
   "outputs": [
    {
     "data": {
      "text/plain": [
       "['105.mat',\n",
       " '11.mat',\n",
       " '18.mat',\n",
       " '23.mat',\n",
       " '25.mat',\n",
       " '27.mat',\n",
       " '52.mat',\n",
       " '65.mat',\n",
       " '90.mat',\n",
       " '91.mat']"
      ]
     },
     "execution_count": 17,
     "metadata": {},
     "output_type": "execute_result"
    }
   ],
   "source": [
    "sorted(room_type_to_indices[9])"
   ]
  },
  {
   "cell_type": "code",
   "execution_count": 18,
   "metadata": {
    "collapsed": false
   },
   "outputs": [
    {
     "data": {
      "text/plain": [
       "['1.mat',\n",
       " '16.mat',\n",
       " '17.mat',\n",
       " '19.mat',\n",
       " '2.mat',\n",
       " '20.mat',\n",
       " '21.mat',\n",
       " '24.mat',\n",
       " '26.mat',\n",
       " '3.mat']"
      ]
     },
     "execution_count": 18,
     "metadata": {},
     "output_type": "execute_result"
    }
   ],
   "source": [
    "sorted(room_type_to_indices[5])"
   ]
  },
  {
   "cell_type": "code",
   "execution_count": 19,
   "metadata": {},
   "outputs": [
    {
     "ename": "Exception",
     "evalue": "Pause execution",
     "output_type": "error",
     "traceback": [
      "\u001b[0;31m---------------------------------------------------------------------------\u001b[0m",
      "\u001b[0;31mException\u001b[0m                                 Traceback (most recent call last)",
      "Cell \u001b[0;32mIn[19], line 1\u001b[0m\n\u001b[0;32m----> 1\u001b[0m \u001b[39mraise\u001b[39;00m \u001b[39mException\u001b[39;00m(\u001b[39m'\u001b[39m\u001b[39mPause execution\u001b[39m\u001b[39m'\u001b[39m)\n",
      "\u001b[0;31mException\u001b[0m: Pause execution"
     ]
    }
   ],
   "source": [
    "raise Exception('Pause execution')"
   ]
  },
  {
   "cell_type": "code",
   "execution_count": 24,
   "metadata": {},
   "outputs": [],
   "source": [
    "indices = []\n",
    "\n",
    "for f in sorted(filter(is_mat_file, os.listdir(type_dir_path))):\n",
    "    index = int(f.split('.')[0])\n",
    "    indices.append(index)\n",
    "\n",
    "indices = list(sorted(indices))"
   ]
  },
  {
   "cell_type": "code",
   "execution_count": 27,
   "metadata": {},
   "outputs": [],
   "source": [
    "results_dir = '/Users/richardkuodis/development/pytorch-layoutnet/res/lsun_tr_gt'\n",
    "\n",
    "for i in indices:\n",
    "    corn = loadmat(os.path.join(results_dir, 'cor_mat', f'{i}.mat'))['x']\n",
    "    corn = corn.astype(np.float32)\n",
    "    np.save(f'./out/cor_mat_{i}.npy', corn)\n",
    "\n",
    "    corn_f = loadmat(os.path.join(results_dir, 'cor_mat_flip', f'{i}.mat'))['x']\n",
    "    corn_f = corn_f.astype(np.float32)\n",
    "    np.save(f'./out/cor_mat_flip_{i}.npy', corn_f)\n",
    "\n",
    "    r_t = loadmat(os.path.join(results_dir, 'type', f'{i}.mat'))['x']\n",
    "    r_t = r_t.astype(np.float32)\n",
    "    np.save(f'./out/type_{i}.npy', r_t)"
   ]
  },
  {
   "cell_type": "code",
   "execution_count": 32,
   "metadata": {},
   "outputs": [
    {
     "data": {
      "text/plain": [
       "2023"
      ]
     },
     "execution_count": 32,
     "metadata": {},
     "output_type": "execute_result"
    }
   ],
   "source": [
    "max(sorted(indices))"
   ]
  },
  {
   "cell_type": "code",
   "execution_count": 36,
   "metadata": {},
   "outputs": [],
   "source": [
    "np.save(f'./out/indices.npy', np.array(indices, dtype=np.int32))"
   ]
  },
  {
   "cell_type": "code",
   "execution_count": null,
   "metadata": {},
   "outputs": [],
   "source": []
  }
 ],
 "metadata": {
  "kernelspec": {
   "display_name": "layoutnet-perspective",
   "language": "python",
   "name": "python3"
  },
  "language_info": {
   "codemirror_mode": {
    "name": "ipython",
    "version": 3
   },
   "file_extension": ".py",
   "mimetype": "text/x-python",
   "name": "python",
   "nbconvert_exporter": "python",
   "pygments_lexer": "ipython3",
   "version": "3.9.16"
  },
  "orig_nbformat": 4
 },
 "nbformat": 4,
 "nbformat_minor": 2
}
