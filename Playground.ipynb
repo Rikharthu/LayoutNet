{
 "cells": [
  {
   "cell_type": "code",
   "execution_count": 1,
   "metadata": {
    "ExecuteTime": {
     "end_time": "2023-07-31T07:59:32.219879043Z",
     "start_time": "2023-07-31T07:59:31.739111995Z"
    }
   },
   "outputs": [],
   "source": [
    "from scipy.io import loadmat, savemat\n",
    "import numpy as np\n",
    "import matplotlib.pyplot as plt\n",
    "from PIL import Image\n",
    "import mat73\n",
    "import os\n",
    "from pprint import pprint"
   ]
  },
  {
   "cell_type": "code",
   "execution_count": 12,
   "metadata": {
    "ExecuteTime": {
     "end_time": "2023-08-01T18:17:12.495282400Z",
     "start_time": "2023-08-01T18:17:11.737253233Z"
    }
   },
   "outputs": [
    {
     "data": {
      "text/plain": "[0, 1, 2, 3, 4, 5, 6, 7, 8, 9, 10]"
     },
     "execution_count": 12,
     "metadata": {},
     "output_type": "execute_result"
    }
   ],
   "source": [
    "# type_dir_path = './result/res_lsun_ts_512_joint/type'\n",
    "# type_dir_path = '/home/richard/Development/pytorch-layoutnet-perspective/res/lsun_tr/type'\n",
    "type_dir_path = '/home/richard/Development/pytorch-layoutnet-perspective/res/lsun_tr_gt/type'\n",
    "# type_dir_path = '/home/richard/Development/LayoutNet/data/lsun_tr/type'\n",
    "\n",
    "def is_mat_file(f):\n",
    "    return f.split('.')[-1] == 'mat'\n",
    "\n",
    "room_type_to_indices = {}\n",
    "\n",
    "for f in sorted(filter(is_mat_file, os.listdir(type_dir_path))):\n",
    "    type_mat = loadmat(os.path.join(type_dir_path, f))\n",
    "    room_type = type_mat['x'].mean(axis=0).argmax()\n",
    "    # room_type = int(type_mat['id'].squeeze())\n",
    "\n",
    "    if room_type not in room_type_to_indices:\n",
    "        room_type_to_indices[room_type] = [f]\n",
    "    else:\n",
    "        room_type_to_indices[room_type].append(f)\n",
    "\n",
    "list(sorted(room_type_to_indices.keys()))"
   ]
  },
  {
   "cell_type": "code",
   "execution_count": 15,
   "metadata": {
    "ExecuteTime": {
     "end_time": "2023-08-01T18:20:56.386403929Z",
     "start_time": "2023-08-01T18:20:56.352358660Z"
    }
   },
   "outputs": [
    {
     "data": {
      "text/plain": "['109.mat',\n '1212.mat',\n '1290.mat',\n '1360.mat',\n '137.mat',\n '1438.mat',\n '1496.mat',\n '1517.mat',\n '1537.mat',\n '1665.mat',\n '1708.mat',\n '192.mat',\n '196.mat',\n '1994.mat',\n '2045.mat',\n '2061.mat',\n '2092.mat',\n '2097.mat',\n '2196.mat',\n '2346.mat',\n '2359.mat',\n '2395.mat',\n '246.mat',\n '2478.mat',\n '2547.mat',\n '2677.mat',\n '279.mat',\n '2952.mat',\n '312.mat',\n '326.mat',\n '3328.mat',\n '3364.mat',\n '3487.mat',\n '3501.mat',\n '3567.mat',\n '3579.mat',\n '49.mat',\n '493.mat',\n '523.mat',\n '536.mat',\n '6.mat',\n '60.mat',\n '601.mat',\n '657.mat',\n '787.mat',\n '87.mat']"
     },
     "execution_count": 15,
     "metadata": {},
     "output_type": "execute_result"
    }
   ],
   "source": [
    "sorted(room_type_to_indices[10])"
   ]
  },
  {
   "cell_type": "code",
   "execution_count": 14,
   "metadata": {
    "ExecuteTime": {
     "end_time": "2023-08-01T18:20:52.399129228Z",
     "start_time": "2023-08-01T18:20:52.356393009Z"
    }
   },
   "outputs": [
    {
     "data": {
      "text/plain": "['109.mat',\n '1212.mat',\n '1290.mat',\n '1360.mat',\n '137.mat',\n '1438.mat',\n '1496.mat',\n '1517.mat',\n '1537.mat',\n '1665.mat',\n '1708.mat',\n '192.mat',\n '196.mat',\n '1994.mat',\n '2045.mat',\n '2061.mat',\n '2092.mat',\n '2097.mat',\n '2196.mat',\n '2346.mat',\n '2359.mat',\n '2395.mat',\n '246.mat',\n '2478.mat',\n '2547.mat',\n '2677.mat',\n '279.mat',\n '2952.mat',\n '312.mat',\n '326.mat',\n '3328.mat',\n '3364.mat',\n '3487.mat',\n '3501.mat',\n '3567.mat',\n '3579.mat',\n '49.mat',\n '493.mat',\n '523.mat',\n '536.mat',\n '6.mat',\n '60.mat',\n '601.mat',\n '657.mat',\n '787.mat',\n '87.mat']"
     },
     "execution_count": 14,
     "metadata": {},
     "output_type": "execute_result"
    }
   ],
   "source": [
    "room_type_to_indices[10]"
   ]
  },
  {
   "cell_type": "code",
   "execution_count": null,
   "outputs": [],
   "source": [],
   "metadata": {
    "collapsed": false
   }
  }
 ],
 "metadata": {
  "kernelspec": {
   "display_name": "layoutnet-perspective",
   "language": "python",
   "name": "python3"
  },
  "language_info": {
   "codemirror_mode": {
    "name": "ipython",
    "version": 3
   },
   "file_extension": ".py",
   "mimetype": "text/x-python",
   "name": "python",
   "nbconvert_exporter": "python",
   "pygments_lexer": "ipython3",
   "version": "3.11.4"
  },
  "orig_nbformat": 4
 },
 "nbformat": 4,
 "nbformat_minor": 2
}
