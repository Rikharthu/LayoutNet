{
 "cells": [
  {
   "cell_type": "code",
   "execution_count": 8,
   "metadata": {},
   "outputs": [],
   "source": [
    "import torch\n",
    "import matplotlib.pyplot as plt\n",
    "import pytorch_lightning as pl"
   ]
  },
  {
   "cell_type": "code",
   "execution_count": 3,
   "metadata": {},
   "outputs": [
    {
     "data": {
      "text/plain": [
       "tensor(3., requires_grad=True)"
      ]
     },
     "execution_count": 3,
     "metadata": {},
     "output_type": "execute_result"
    }
   ],
   "source": [
    "x = torch.tensor(3.0, requires_grad=True)\n",
    "x"
   ]
  },
  {
   "cell_type": "code",
   "execution_count": 5,
   "metadata": {},
   "outputs": [
    {
     "name": "stdout",
     "output_type": "stream",
     "text": [
      "Result of the equation is: 27.0\n",
      "Derivative of the equation at x = 3 is: 18.0\n"
     ]
    }
   ],
   "source": [
    "y = 3 * x ** 2\n",
    "print(f'Result of the equation is: {y}')\n",
    "y.backward()\n",
    "print(f'Derivative of the equation at x = 3 is: {x.grad}')\n",
    "# y' = 3 * 2 * x\n",
    "# y'(x=3) = 3 * 2 * 3 = 18"
   ]
  },
  {
   "cell_type": "code",
   "execution_count": 6,
   "metadata": {},
   "outputs": [
    {
     "data": {
      "text/plain": [
       "tensor([[0.0522, 0.5044, 0.1545, 0.4554],\n",
       "        [0.7861, 0.2566, 0.4498, 0.5460],\n",
       "        [0.3231, 0.7807, 0.3997, 0.3302]], requires_grad=True)"
      ]
     },
     "execution_count": 6,
     "metadata": {},
     "output_type": "execute_result"
    }
   ],
   "source": [
    "x = torch.rand((3, 4), requires_grad=True)\n",
    "x"
   ]
  },
  {
   "cell_type": "code",
   "execution_count": 14,
   "metadata": {},
   "outputs": [],
   "source": [
    "class MyModel(pl.LightningModule):\n",
    "\n",
    "    def __init__(self):\n",
    "        super().__init__()\n",
    "\n",
    "        self.example_input_array = torch.rand((3, 1080, 1920))\n",
    "\n",
    "    def forward(self, x):\n",
    "        if x[0,0,0] > 127:\n",
    "            x = x + 2\n",
    "        else:\n",
    "            x = x + 1\n",
    "        return x\n",
    "    \n",
    "model = MyModel()\n",
    "model_script = model.to_torchscript(method='script')\n",
    "torch.jit.save(model_script, 'my_model.pt')"
   ]
  },
  {
   "cell_type": "code",
   "execution_count": null,
   "metadata": {},
   "outputs": [],
   "source": []
  }
 ],
 "metadata": {
  "kernelspec": {
   "display_name": "layoutnet-perspective",
   "language": "python",
   "name": "python3"
  },
  "language_info": {
   "codemirror_mode": {
    "name": "ipython",
    "version": 3
   },
   "file_extension": ".py",
   "mimetype": "text/x-python",
   "name": "python",
   "nbconvert_exporter": "python",
   "pygments_lexer": "ipython3",
   "version": "3.11.4"
  },
  "orig_nbformat": 4
 },
 "nbformat": 4,
 "nbformat_minor": 2
}
