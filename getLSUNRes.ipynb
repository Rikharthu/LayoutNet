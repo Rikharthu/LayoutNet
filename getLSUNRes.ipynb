{
 "cells": [
  {
   "cell_type": "code",
   "execution_count": null,
   "metadata": {
    "ExecuteTime": {
     "end_time": "2023-07-30T16:27:50.315104651Z",
     "start_time": "2023-07-30T16:27:49.877568695Z"
    }
   },
   "outputs": [],
   "source": [
    "from scipy.io import savemat, loadmat\n",
    "import numpy as np\n",
    "import os\n",
    "import matplotlib.pyplot as plt\n",
    "from PIL import Image\n",
    "from pprint import pprint\n",
    "import cv2"
   ]
  },
  {
   "cell_type": "code",
   "execution_count": null,
   "metadata": {
    "ExecuteTime": {
     "end_time": "2023-07-30T16:27:50.377175797Z",
     "start_time": "2023-07-30T16:27:49.926767726Z"
    }
   },
   "outputs": [],
   "source": [
    "room_types = loadmat('./matlab/RoomLayoutTypes.mat')['type']\n",
    "\n",
    "type_ = []\n",
    "for idx in range(room_types.shape[1]):\n",
    "    room_type_entry = room_types[0, idx]\n",
    "    typeid = int(room_type_entry[0].squeeze())\n",
    "    region = room_type_entry[1].squeeze().tolist()\n",
    "    cornermap = room_type_entry[2].squeeze()\n",
    "    lines = room_type_entry[3].squeeze()\n",
    "\n",
    "    type_entry = {\n",
    "        'typeid': typeid,\n",
    "        'region': region,\n",
    "        'cornermap': cornermap,\n",
    "        'lines': lines\n",
    "    }\n",
    "    type_.append(type_entry)\n",
    "\n",
    "pprint(type_)"
   ]
  },
  {
   "cell_type": "code",
   "execution_count": null,
   "metadata": {
    "ExecuteTime": {
     "end_time": "2023-07-30T16:38:57.438752490Z",
     "start_time": "2023-07-30T16:38:57.351911157Z"
    }
   },
   "outputs": [],
   "source": [
    "# i = 100\n",
    "# i = 12\n",
    "# i = 131\n",
    "# i = 1063\n",
    "# i = 102\n",
    "i = 1063\n",
    "\n",
    "im_h = 512\n",
    "im_w = 512\n",
    "\n",
    "# This appears to be the original image size.\n",
    "# For now, make it equal to im_h, im_w\n",
    "im_res = np.array([im_w, im_h])\n",
    "\n",
    "results_dir = '/Users/richardkuodis/development/pytorch-layoutnet/res/lsun_tr_gt'"
   ]
  },
  {
   "cell_type": "code",
   "execution_count": null,
   "metadata": {
    "ExecuteTime": {
     "end_time": "2023-07-30T16:38:57.726742002Z",
     "start_time": "2023-07-30T16:38:57.667019277Z"
    }
   },
   "outputs": [],
   "source": [
    "# im = Image.open(f'./result/res_lsun_ts_512_joint/img/{i}.png')\n",
    "im = Image.open(os.path.join(results_dir, 'img', f'{i}.png'))\n",
    "im"
   ]
  },
  {
   "cell_type": "code",
   "execution_count": null,
   "metadata": {
    "ExecuteTime": {
     "end_time": "2023-07-30T16:39:00.044443746Z",
     "start_time": "2023-07-30T16:38:59.985922009Z"
    }
   },
   "outputs": [],
   "source": [
    "# edg = Image.open(f'./result/res_lsun_ts_512_joint/edg/{i}.png')\n",
    "edg = Image.open(os.path.join(results_dir, 'edg', f'{i}.png'))\n",
    "\n",
    "edg"
   ]
  },
  {
   "cell_type": "code",
   "execution_count": null,
   "metadata": {
    "ExecuteTime": {
     "end_time": "2023-07-30T16:27:50.378160178Z",
     "start_time": "2023-07-30T16:27:49.977673792Z"
    }
   },
   "outputs": [],
   "source": [
    "edg = np.array(edg)\n",
    "edg.shape"
   ]
  },
  {
   "cell_type": "code",
   "execution_count": null,
   "metadata": {
    "ExecuteTime": {
     "end_time": "2023-07-30T16:27:50.378316051Z",
     "start_time": "2023-07-30T16:27:50.022840196Z"
    }
   },
   "outputs": [],
   "source": [
    "# corn = loadmat(f'./result/res_lsun_ts_512_joint/cor_mat/{i}.mat')['x']\n",
    "corn = loadmat(os.path.join(results_dir, 'cor_mat', f'{i}.mat'))['x']\n",
    "\n",
    "corn = corn.astype(np.float32)\n",
    "np.save(f'./out/cor_mat_{i}.npy', corn)\n",
    "\n",
    "corn = np.load(f'./out/cor_mat_{i}.npy')\n",
    "\n",
    "# for l in range(0, 8):\n",
    "#     plt.figure()\n",
    "#     plt.title(f'corn_{l}')\n",
    "#     plt.imshow(corn[l, :, :])\n",
    "\n",
    "corn = corn.transpose(1, 2, 0)  # CHW -> HWC\n",
    "corn.shape"
   ]
  },
  {
   "cell_type": "code",
   "execution_count": null,
   "metadata": {},
   "outputs": [],
   "source": [
    "plt.imshow(corn.sum(axis=2));"
   ]
  },
  {
   "cell_type": "code",
   "execution_count": null,
   "metadata": {},
   "outputs": [],
   "source": [
    "os.path.join(results_dir, 'cor_mat', f'{i}.mat')"
   ]
  },
  {
   "cell_type": "code",
   "execution_count": null,
   "metadata": {},
   "outputs": [],
   "source": [
    "corn.dtype"
   ]
  },
  {
   "cell_type": "code",
   "execution_count": null,
   "metadata": {},
   "outputs": [],
   "source": [
    "os.path.join(results_dir, 'cor_mat_flip', f'{i}.mat')"
   ]
  },
  {
   "cell_type": "code",
   "execution_count": null,
   "metadata": {
    "ExecuteTime": {
     "end_time": "2023-07-30T16:27:50.378468720Z",
     "start_time": "2023-07-30T16:27:50.022938448Z"
    }
   },
   "outputs": [],
   "source": [
    "# corn_f = loadmat(f'./result/res_lsun_ts_512_joint/cor_mat_flip/{i}.mat')['x']\n",
    "corn_f = loadmat(os.path.join(results_dir, 'cor_mat_flip', f'{i}.mat'))['x']\n",
    "\n",
    "corn_f = corn_f.astype(np.float32)\n",
    "np.save(f'./out/cor_mat_flip_{i}.npy', corn_f)\n",
    "\n",
    "corn_f = np.load(f'./out/cor_mat_flip_{i}.npy')\n",
    "\n",
    "# corn_f_2 = np.load(f'./out/cor_mat_flip_{i}.npy')\n",
    "\n",
    "# for l in range(0, 8):\n",
    "#     plt.figure()\n",
    "#     plt.title(f'corn_f_{l}')\n",
    "#     plt.imshow(corn_f[l, :, :])\n",
    "\n",
    "#     plt.figure()\n",
    "#     plt.title(f'corn_f_2_{i}')\n",
    "#     plt.imshow(corn_f_2[i, :, :])\n",
    "\n",
    "corn_f = corn_f.transpose(1, 2, 0)\n",
    "corn_f.shape"
   ]
  },
  {
   "cell_type": "code",
   "execution_count": null,
   "metadata": {},
   "outputs": [],
   "source": [
    "os.path.join(os.getcwd(), f'./out/cor_mat_flip_{i}.npy')"
   ]
  },
  {
   "cell_type": "code",
   "execution_count": null,
   "metadata": {},
   "outputs": [],
   "source": [
    "corn_f.shape"
   ]
  },
  {
   "cell_type": "code",
   "execution_count": null,
   "metadata": {},
   "outputs": [],
   "source": [
    "# for i in range(0, 8):\n",
    "#     plt.figure()\n",
    "#     plt.title(f'{i}')\n",
    "#     plt.imshow(corn[:, :, i])"
   ]
  },
  {
   "cell_type": "code",
   "execution_count": null,
   "metadata": {},
   "outputs": [],
   "source": [
    "# for i in range(0, 8):\n",
    "#     plt.figure()\n",
    "#     plt.title(f'{i}')\n",
    "#     plt.imshow(corn_f[:, :, i])"
   ]
  },
  {
   "cell_type": "code",
   "execution_count": null,
   "metadata": {},
   "outputs": [],
   "source": [
    "# plt.imshow(corn[:, :, 4]);"
   ]
  },
  {
   "cell_type": "code",
   "execution_count": null,
   "metadata": {},
   "outputs": [],
   "source": [
    "# plt.imshow(corn_f[:, :, 4]);"
   ]
  },
  {
   "cell_type": "code",
   "execution_count": null,
   "metadata": {
    "ExecuteTime": {
     "end_time": "2023-07-30T16:27:50.378637788Z",
     "start_time": "2023-07-30T16:27:50.023000427Z"
    }
   },
   "outputs": [],
   "source": [
    "# r_t = loadmat(f'./result/res_lsun_ts_512_joint/type/{i}.mat')['x']\n",
    "r_t = loadmat(os.path.join(results_dir, 'type', f'{i}.mat'))['x']\n",
    "\n",
    "r_t = r_t.astype(np.float32)\n",
    "np.save(f'./out/type_{i}.npy', r_t)\n",
    "\n",
    "r_t = r_t.mean(axis=0)\n",
    "RecordId = r_t.argmax()\n",
    "\n",
    "# FIXME: for debug\n",
    "# RecordId = 9\n",
    "\n",
    "pprint(r_t)\n",
    "pprint(RecordId)"
   ]
  },
  {
   "cell_type": "code",
   "execution_count": null,
   "metadata": {},
   "outputs": [],
   "source": [
    "# FIXME: for debug\n",
    "if RecordId == 7:\n",
    "    RecordId = 1"
   ]
  },
  {
   "cell_type": "code",
   "execution_count": null,
   "metadata": {
    "ExecuteTime": {
     "end_time": "2023-07-30T16:27:50.378790326Z",
     "start_time": "2023-07-30T16:27:50.023065276Z"
    }
   },
   "outputs": [],
   "source": [
    "room_t = type_[RecordId]\n",
    "pprint(room_t)"
   ]
  },
  {
   "cell_type": "code",
   "execution_count": null,
   "metadata": {},
   "outputs": [],
   "source": [
    "room_t['typeid']"
   ]
  },
  {
   "cell_type": "code",
   "execution_count": null,
   "metadata": {
    "ExecuteTime": {
     "end_time": "2023-07-30T16:27:50.379052526Z",
     "start_time": "2023-07-30T16:27:50.062888695Z"
    }
   },
   "outputs": [],
   "source": [
    "# FIXME: Original code doesn't seem to support room types 7 and 8 (missing code).\n",
    "#   We could interpret these room types as similar ones: 7 -> 0,1 and 8 -> 6.\n",
    "#   Missing corners and edges could be added manually, if they are missing.  \n",
    "#   Then lines that should not be present in this room type (e.g. floor edge on type 7->1 and other extended, if needed (e.g., vertical lines on type 7->1)\n",
    "#   Type 8 could also be switched upside down and parsed as type 9, then flipped back down\n",
    "\n",
    "if room_t['typeid'] == 0:\n",
    "    corn_t = corn_f[:, :, 0].copy()\n",
    "    corn_f[:, :, 0] = corn_f[:, :, 6]\n",
    "    corn_f[:, :, 6] = corn_t\n",
    "\n",
    "    corn_t = corn_f[:, :, 2].copy()\n",
    "    corn_f[:, :, 2] = corn_f[:, :, 4]\n",
    "    corn_f[:, :, 4] = corn_t\n",
    "\n",
    "    corn_t = corn_f[:, :, 1].copy()\n",
    "    corn_f[:, :, 1] = corn_f[:, :, 7]\n",
    "    corn_f[:, :, 7] = corn_t\n",
    "\n",
    "    corn_t = corn_f[:, :, 3].copy()\n",
    "    corn_f[:, :, 3] = corn_f[:, :, 5]\n",
    "    corn_f[:, :, 5] = corn_t\n",
    "\n",
    "    corn[:, :, 2] = np.maximum(0, corn[:, :, 2] - corn[:, :, 3])\n",
    "    corn[:, :, 4] = np.maximum(0, corn[:, :, 4] - corn[:, :, 5])\n",
    "    corn[:, :, 0] = np.maximum(0, corn[:, :, 0] - corn[:, :, 1])\n",
    "    corn[:, :, 6] = np.maximum(0, corn[:, :, 6] - corn[:, :, 7])\n",
    "\n",
    "    corn_f[:, :, 2] = np.maximum(0, corn_f[:, :, 2] - corn_f[:, :, 3])\n",
    "    corn_f[:, :, 4] = np.maximum(0, corn_f[:, :, 4] - corn_f[:, :, 5])\n",
    "    corn_f[:, :, 0] = np.maximum(0, corn_f[:, :, 0] - corn_f[:, :, 1])\n",
    "    corn_f[:, :, 6] = np.maximum(0, corn_f[:, :, 6] - corn_f[:, :, 7])\n",
    "\n",
    "    corn[:, 399, 0] = 0\n",
    "    corn[:, 399:, 2] = 0\n",
    "    corn[:, 0:112, 6] = 0\n",
    "\n",
    "    a = corn[:, :, 4].copy()\n",
    "    b = corn[:, :, 2].copy()\n",
    "    corn[:, :, 4] = np.maximum(corn[:, :, 4] - b, 0)\n",
    "    corn[:, :, 2] = np.maximum(corn[:, :, 2] - a, 0)\n",
    "\n",
    "    # FIXME: probably there was an eror in the original code, as it used corn_f here instead of corn (duplicating at the bottom)\n",
    "    a = corn[:, :, 0].copy()\n",
    "    b = corn[:, :, 6].copy()\n",
    "    corn[:, :, 0] = np.maximum(corn[:, :, 0] - b, 0)\n",
    "    corn[:, :, 6] = np.maximum(corn[:, :, 6] - a, 0)\n",
    "\n",
    "    a = corn_f[:, :, 4].copy()\n",
    "    b = corn_f[:, :, 2].copy()\n",
    "    corn_f[:, :, 4] = np.maximum(corn_f[:, :, 4] - b, 0)\n",
    "    corn_f[:, :, 2] = np.maximum(corn_f[:, :, 2] - a, 0)\n",
    "\n",
    "    a = corn_f[:, :, 0].copy()\n",
    "    b = corn_f[:, :, 6].copy()\n",
    "    corn_f[:, :, 0] = np.maximum(corn_f[:, :, 0] - b, 0)\n",
    "    corn_f[:, :, 6] = np.maximum(corn_f[:, :, 6] - a, 0)\n",
    "\n",
    "elif room_t['typeid'] == 1:\n",
    "    corn_t = corn_f[:, :, 0].copy()\n",
    "    corn_f[:, :, 0] = corn_f[:, :, 6]\n",
    "    corn_f[:, :, 6] = corn_t\n",
    "\n",
    "    corn_t = corn_f[:, :, 2].copy()\n",
    "    corn_f[:, :, 2] = corn_f[:, :, 4]\n",
    "    corn_f[:, :, 4] = corn_t\n",
    "\n",
    "    corn_t = corn_f[:, :, 3].copy()\n",
    "    corn_f[:, :, 3] = corn_f[:, :, 5]\n",
    "    corn_f[:, :, 5] = corn_t\n",
    "    \n",
    "    corn[:, :, 2] = np.maximum(0, corn[:, :, 2] - corn[:, :, 3])\n",
    "    corn[:, :, 4] = np.maximum(0, corn[:, :, 4] - corn[:, :, 5])\n",
    "    corn_f[:, :, 2] = np.maximum(0, corn_f[:, :, 2] - corn_f[:, :, 3])\n",
    "    corn_f[:, :, 4] = np.maximum(0, corn_f[:, :, 4] - corn_f[:, :, 5])\n",
    "    \n",
    "    a = corn[:, :, 4].copy()\n",
    "    b = corn[:, :, 2].copy()\n",
    "    corn[:, :, 4] = np.maximum(corn[:, :, 4] - b, 0)\n",
    "    corn[:, :, 2] = np.maximum(corn[:, :, 2] - a, 0)\n",
    "    \n",
    "    a = corn[:, :, 0].copy()\n",
    "    b = corn[:, :, 6].copy()\n",
    "    corn[:, :, 0] = np.maximum(corn[:, :, 0] - b, 0)\n",
    "    corn[:, :, 6] = np.maximum(corn[:, :, 6] - a, 0)\n",
    "    \n",
    "    a = corn_f[:, :, 4].copy()\n",
    "    b = corn_f[:, :, 2].copy()\n",
    "    corn_f[:, :, 4] = np.maximum(corn_f[:, :, 4] - b, 0)\n",
    "    corn_f[:, :, 2] = np.maximum(corn_f[:, :, 2] - a, 0)\n",
    "    \n",
    "    a = corn_f[:, :, 0].copy()\n",
    "    b = corn_f[:, :, 6].copy()\n",
    "    corn_f[:, :, 0] = np.maximum(corn_f[:, :, 0] - b, 0)\n",
    "    corn_f[:, :, 6] = np.maximum(corn_f[:, :, 6] - a, 0)\n",
    "\n",
    "elif room_t['typeid'] == 2:\n",
    "    corn_t = corn_f[:, :, 1].copy()\n",
    "    corn_f[:, :, 1] = corn_f[:, :, 7]\n",
    "    corn_f[:, :, 7] = corn_t\n",
    "\n",
    "    corn_t = corn_f[:, :, 0].copy()\n",
    "    corn_f[:, :, 0] = corn_f[:, :, 6]\n",
    "    corn_f[:, :, 6] = corn_t\n",
    "\n",
    "    corn_t = corn_f[:, :, 2].copy()\n",
    "    corn_f[:, :, 2] = corn_f[:, :, 4]\n",
    "    corn_f[:, :, 4] = corn_t\n",
    "\n",
    "    corn[:, :, 0] = np.maximum(0, corn[:, :, 0] - corn[:, :, 1])\n",
    "    corn[:, :, 6] = np.maximum(0, corn[:, :, 6] - corn[:, :, 7])\n",
    "    corn_f[:, :, 0] = np.maximum(0, corn_f[:, :, 0] - corn_f[:, :, 1])\n",
    "    corn_f[:, :, 6] = np.maximum(0, corn_f[:, :, 6] - corn_f[:, :, 7])\n",
    "\n",
    "    a = corn[:, :, 4].copy()\n",
    "    b = corn[:, :, 2].copy()\n",
    "    corn[:, :, 4] = np.maximum(corn[:, :, 4] - b, 0)\n",
    "    corn[:, :, 2] = np.maximum(corn[:, :, 2] - a, 0)\n",
    "\n",
    "    a = corn[:, :, 0].copy()\n",
    "    b = corn[:, :, 6].copy()\n",
    "    corn[:, :, 0] = np.maximum(corn[:, :, 0] - b, 0)\n",
    "    corn[:, :, 6] = np.maximum(corn[:, :, 6] - a, 0)\n",
    "\n",
    "    a = corn_f[:, :, 4].copy()\n",
    "    b = corn_f[:, :, 2].copy()\n",
    "    corn_f[:, :, 4] = np.maximum(corn_f[:, :, 4] - b, 0)\n",
    "    corn_f[:, :, 2] = np.maximum(corn_f[:, :, 2] - a, 0)\n",
    "\n",
    "    a = corn_f[:, :, 0].copy()\n",
    "    b = corn_f[:, :, 6].copy()\n",
    "    corn_f[:, :, 0] = np.maximum(corn_f[:, :, 0] - b, 0)\n",
    "    corn_f[:, :, 6] = np.maximum(corn_f[:, :, 6] - a, 0)\n",
    "\n",
    "elif room_t['typeid'] == 3:\n",
    "    corn_t = corn_f[:, :, 0].copy()\n",
    "    corn_f[:, :, 0] = corn_f[:, :, 7]\n",
    "    corn_f[:, :, 7] = corn_t\n",
    "\n",
    "    corn[:, :, 6] = np.maximum(0, corn[:, :, 6] - corn[:, :, 0])\n",
    "    corn_f[:, :, 6] = np.maximum(0, corn_f[:, :, 6] - corn_f[:, :, 0])\n",
    "\n",
    "    corn[:, :, 6] = np.maximum(0, corn[:, :, 6] - corn[:, :, 7])\n",
    "    corn_f[:, :, 6] = np.maximum(0, corn_f[:, :, 6] - corn_f[:, :, 7])\n",
    "\n",
    "    corn[:, :, 4] = np.maximum(0, corn[:, :, 4] - corn[:, :, 2])\n",
    "    corn_f[:, :, 4] = np.maximum(0, corn_f[:, :, 4] - corn_f[:, :, 2])\n",
    "\n",
    "elif room_t['typeid'] == 4:\n",
    "    corn_t = corn_f[:, :, 2].copy()  # Mind that indexing in Matlab starts from 1, not 0\n",
    "    corn_f[:, :, 2] = corn_f[:, :, 5]\n",
    "    corn_f[:, :, 5] = corn_t\n",
    "\n",
    "    corn[:, :, 4] = np.maximum(0, corn[:, :, 4] - corn[:, :, 2])\n",
    "    corn_f[:, :, 4] = np.maximum(0, corn_f[:, :, 4] - corn_f[:, :, 2])\n",
    "\n",
    "    corn[:, :, 4] = np.maximum(0, corn[:, :, 4] - corn[:, :, 5])\n",
    "    corn_f[:, :, 4] = np.maximum(0, corn_f[:, :, 4] - corn_f[:, :, 5])\n",
    "\n",
    "    corn[:, :, 6] = np.maximum(0, corn[:, :, 6] - corn[:, :, 0])\n",
    "    corn_f[:, :, 6] = np.maximum(0, corn_f[:, :, 6] - corn_f[:, :, 0])\n",
    "elif room_t['typeid'] == 5:\n",
    "    corn_t = corn_f[:, :, 0].copy()\n",
    "    corn_f[:, :, 0] = corn_f[:, :, 7]\n",
    "    corn_f[:, :, 7] = corn_t\n",
    "\n",
    "    corn_t = corn_f[:, :, 2].copy()\n",
    "    corn_f[:, :, 2] = corn_f[:, :, 5]\n",
    "    corn_f[:, :, 5] = corn_t\n",
    "\n",
    "    corn[:, :, 6] = np.maximum(0, corn[:, :, 6] - corn[:, :, 0])\n",
    "    corn_f[:, :, 6] = np.maximum(0, corn_f[:, :, 6] - corn_f[:, :, 0])\n",
    "\n",
    "    corn[:, :, 4] = np.maximum(0, corn[:, :, 4] - corn[:, :, 2])\n",
    "    corn_f[:, :, 4] = np.maximum(0, corn_f[:, :, 4] - corn_f[:, :, 2])\n",
    "\n",
    "    corn[:, :, 6] = np.maximum(0, corn[:, :, 6] - corn[:, :, 7])\n",
    "    corn_f[:, :, 6] = np.maximum(0, corn_f[:, :, 6] - corn_f[:, :, 7])\n",
    "\n",
    "    corn[:, :, 4] = np.maximum(0, corn[:, :, 4] - corn[:, :, 5])\n",
    "    corn_f[:, :, 4] = np.maximum(0, corn_f[:, :, 4] - corn_f[:, :, 5])\n",
    "elif room_t['typeid'] == 6:\n",
    "    corn_t = corn_f[:, :, 0].copy()\n",
    "    corn_f[:, :, 0] = corn_f[:, :, 6]\n",
    "    corn_f[:, :, 6] = corn_t\n",
    "\n",
    "    corn_t = corn_f[:, :, 2].copy()\n",
    "    corn_f[:, :, 2] = corn_f[:, :, 4]\n",
    "    corn_f[:, :, 4] = corn_t\n",
    "\n",
    "    corn[:, :, 2] = np.maximum(0, corn[:, :, 2] - corn[:, :, 3])\n",
    "    corn[:, :, 4] = np.maximum(0, corn[:, :, 4] - corn[:, :, 5])\n",
    "    \n",
    "    corn_f[:, :, 2] = np.maximum(0, corn_f[:, :, 2] - corn_f[:, :, 3])\n",
    "    corn_f[:, :, 4] = np.maximum(0, corn_f[:, :, 4] - corn_f[:, :, 5])\n",
    "elif room_t['typeid'] == 7:\n",
    "    # Do nothing (unimplemented?)\n",
    "    pass\n",
    "elif room_t['typeid'] == 8:\n",
    "    # Do nothing\n",
    "    # pass\n",
    "    corn_t = corn_f[:, :, 0].copy()\n",
    "    corn_f[:, :, 0] = corn_f[:, :, 6]\n",
    "    corn_f[:, :, 6] = corn_t\n",
    "elif room_t['typeid'] == 9:\n",
    "    corn_t = corn_f[:, :, 2].copy()\n",
    "    corn_f[:, :, 2] = corn_f[:, :, 4]\n",
    "    corn_f[:, :, 4] = corn_t\n",
    "elif room_t['typeid'] == 10:\n",
    "    # Do nothing\n",
    "    pass\n",
    "else:\n",
    "    # TODO\n",
    "    raise Exception(f'Unsupported room type {room_t[\"typeid\"]} (yet)')\n",
    "\n",
    "    ..."
   ]
  },
  {
   "cell_type": "code",
   "execution_count": null,
   "metadata": {},
   "outputs": [],
   "source": [
    "len(room_t['cornermap'])"
   ]
  },
  {
   "cell_type": "code",
   "execution_count": null,
   "metadata": {
    "ExecuteTime": {
     "end_time": "2023-07-30T16:27:50.379256505Z",
     "start_time": "2023-07-30T16:27:50.113605906Z"
    }
   },
   "outputs": [],
   "source": [
    "# Find corner\n",
    "point = []\n",
    "ctr = 0\n",
    "for j in range(len(room_t['cornermap'])):\n",
    "    corn_idx = room_t['cornermap'][j] - 1\n",
    "\n",
    "    # plt.figure()\n",
    "    # plt.title(f'corn_{corn_idx}')\n",
    "    # plt.imshow(corn[:, :, corn_idx])\n",
    "    \n",
    "    # plt.figure()\n",
    "    # plt.title(f'corn_f_{corn_idx}')\n",
    "    # plt.imshow(corn_f[:, :, corn_idx])\n",
    "    \n",
    "    # plt.figure()\n",
    "    # plt.title(f'corn_f_flipped_{corn_idx}')\n",
    "    # plt.imshow(np.fliplr(corn_f[:, :, corn_idx]))\n",
    "\n",
    "\n",
    "    mp = corn[:, :, corn_idx] + np.fliplr(corn_f[:, :, corn_idx])\n",
    "    mp[:, 0] = 0\n",
    "    mp[:, im_w - 1] = 0\n",
    "    mp[0, :] = 0\n",
    "    mp[im_h - 1, :] = 0\n",
    "\n",
    "    # plt.figure()\n",
    "    # plt.imshow(mp)\n",
    "\n",
    "    # mp_mat = loadmat(f'./matlab/mp{j + 1}.mat')\n",
    "    # mp2 = mp_mat['mp']\n",
    "    # mp_msk2 = mp_mat['mp_msk']\n",
    "\n",
    "    mp_msk = np.zeros_like(mp, dtype=np.float32)\n",
    "\n",
    "    # TODO: handle other room types\n",
    "    if room_t['typeid'] == 1:\n",
    "        if room_t['cornermap'][j] == 7 or room_t['cornermap'][j] == 1:\n",
    "            mp_msk = edg[:, :, 1] > 255 * 0.1\n",
    "        elif room_t['cornermap'][j] == 3:\n",
    "            mp_msk = edg[:, :, 1] > 255 * 0.1\n",
    "            \n",
    "            mp_t = ((corn[:, :, 0] + np.fliplr(corn_f[:, :, 0])) / 2.0).copy()\n",
    "            mp_t[:, 0] = 0\n",
    "            mp_t[:, im_w - 1] = 0\n",
    "            mp_t[0, :] = 0\n",
    "            mp_t[im_h - 1, :] = 0\n",
    "            mp_t = mp_t * mp_msk\n",
    "            \n",
    "            flat = np.ravel(mp_t, order='F')\n",
    "\n",
    "            pt = np.argmax(flat)\n",
    "            pt_x, _ = np.unravel_index(pt, mp_t.shape)\n",
    "\n",
    "            mp_msk[:, :(max(pt_x - 50, 1) + 1)] = 0\n",
    "            mp_msk[:, min(pt_x + 50, im_w - 1):] = 0\n",
    "        elif room_t['cornermap'][j] == 5:\n",
    "            mp_msk = edg[:, :, 1] > 255 * 0.1\n",
    "            \n",
    "            mp_t = ((corn[:, :, 6] + np.fliplr(corn_f[:, :, 6])) / 2.0).copy()\n",
    "            mp_t[:, 0] = 0\n",
    "            mp_t[:, im_w - 1] = 0\n",
    "            mp_t[0, :] = 0\n",
    "            mp_t[im_h - 1, :] = 0\n",
    "            mp_t = mp_t * mp_msk\n",
    "            \n",
    "            flat = np.ravel(mp_t, order='F')\n",
    "\n",
    "            pt = np.argmax(flat)\n",
    "            pt_x, _ = np.unravel_index(pt, mp_t.shape)\n",
    "\n",
    "            mp_msk[:, :(max(pt_x - 50, 1) + 1)] = 0\n",
    "            mp_msk[:, min(pt_x + 50, im_w - 1):] = 0\n",
    "        elif room_t['cornermap'][j] == 4 or room_t['cornermap'][j] == 6:\n",
    "            mp_msk = edg[:, :, 2] > 255 * 0.1\n",
    "    elif room_t['typeid'] == 2:\n",
    "        if room_t['cornermap'][j] == 2 or room_t['cornermap'][j] == 8:\n",
    "            mp_msk = edg[:, :, 0] > 255 * 0.1\n",
    "        elif room_t['cornermap'][j] == 5 or room_t['cornermap'][j] == 3 or room_t['cornermap'][j] == 1 or room_t['cornermap'][j] == 7:\n",
    "            mp_msk = edg[:, :, 1] > 255 * 0.1\n",
    "\n",
    "    elif room_t['typeid'] == 3:\n",
    "        if room_t['cornermap'][j] == 1 or room_t['cornermap'][j] == 8:\n",
    "            mp_msk = edg[:, :, 0] > 255 * 0.1\n",
    "        elif room_t['cornermap'][j] == 5 or room_t['cornermap'][j] == 7:\n",
    "            mp_msk = edg[:, :, 1] > 255 * 0.1\n",
    "            \n",
    "    elif room_t['typeid'] == 4:\n",
    "        if room_t['cornermap'][j] == 5:\n",
    "            mp_msk = edg[:, :, 1] > 255 * 0.1\n",
    "        elif room_t['cornermap'][j] == 7:\n",
    "            mp_msk = edg[:, :, 1] > 255 * 0.1\n",
    "            \n",
    "            mp_t = ((corn[:, :, 4] + np.fliplr(corn_f[:, :, 4])) / 2.0).copy()\n",
    "            mp_t[:, 0] = 0\n",
    "            mp_t[:, im_w - 1] = 0\n",
    "            mp_t[0, :] = 0\n",
    "            mp_t[im_h - 1, :] = 0\n",
    "            mp_t = mp_t * mp_msk\n",
    "\n",
    "            flat = np.ravel(mp_t, order='F')\n",
    "            print(f'Flat: {flat[:10]}')\n",
    "\n",
    "            pt = np.argmax(flat)\n",
    "            pt_x, _ = np.unravel_index(pt, mp_t.shape)\n",
    "\n",
    "            mp_msk[:, :(max(pt_x - 50, 1) + 1)] = 0\n",
    "            mp_msk[:, min(pt_x + 50, im_w - 1):] = 0\n",
    "        elif room_t['cornermap'][j] == 3 or room_t['cornermap'][j] == 6:\n",
    "            mp_msk = edg[:, :, 2] > 255 * 0.1\n",
    "\n",
    "    elif room_t['typeid'] == 5:\n",
    "        if room_t['cornermap'][j] == 7:\n",
    "            mp_msk = edg[:, :, 1] > 255 * 0.1\n",
    "        elif room_t['cornermap'][j] == 5:\n",
    "            mp_msk = edg[:, :, 1] > 255 * 0.1\n",
    "\n",
    "            mp_t = ((corn[:, :, 6] + np.fliplr(corn_f[:, :, 6])) / 2.0).copy()\n",
    "            mp_t[:, 0] = 0\n",
    "            mp_t[:, im_w - 1] = 0\n",
    "            mp_t[0, :] = 0\n",
    "            mp_t[im_h - 1, :] = 0\n",
    "            mp_t = mp_t * mp_msk\n",
    "\n",
    "            flat = np.ravel(mp_t, order='F')\n",
    "\n",
    "            pt = np.argmax(flat)\n",
    "            pt_x, pt_y = np.unravel_index(pt, mp_t.shape)\n",
    "\n",
    "            mp_msk[:, :(max(pt_x - 50, 1) + 1)] = 0\n",
    "            mp_msk[:, min(pt_x + 50, im_w - 1):] = 0\n",
    "        elif room_t['cornermap'][j] == 1 or room_t['cornermap'][j] == 8:\n",
    "            mp_msk = edg[:, :, 0] > 255 * 0.1\n",
    "        elif room_t['cornermap'][j] == 3 or room_t['cornermap'][j] == 6:\n",
    "            mp_msk = edg[:, :, 2] > 255 * 0.1\n",
    "\n",
    "    elif room_t['typeid'] == 6:\n",
    "        if room_t['cornermap'][j] == 1 or room_t['cornermap'][j] == 7:\n",
    "            mp_msk = edg[:, :, 0] > 255 * 0.1\n",
    "        elif room_t['cornermap'][j] == 3 or room_t['cornermap'][j] == 5:\n",
    "            mp_msk = edg[:, :, 2] > 255 * 0.1\n",
    "\n",
    "    elif room_t['typeid'] == 7:\n",
    "        # Do nothing\n",
    "        pass\n",
    "\n",
    "    elif room_t['typeid'] == 8:\n",
    "        # Do nothing\n",
    "        # pass\n",
    "        if room_t['cornermap'][j] == 1 or room_t['cornermap'][j] == 7:\n",
    "            mp_msk = edg[:, :, 2] > 255 * 0.1\n",
    "\n",
    "    elif room_t['typeid'] == 9:\n",
    "        if room_t['cornermap'][j] == 5 or room_t['cornermap'][j] == 3:\n",
    "            mp_msk = edg[:, :, 2] > 255 * 0.1\n",
    "\n",
    "    elif room_t['typeid'] == 10:\n",
    "        if room_t['cornermap'][j] == 5 or room_t['cornermap'][j] == 7:\n",
    "            mp_msk = edg[:, :, 1] > 255 * 0.1\n",
    "            \n",
    "    elif room_t['typeid'] == 0:\n",
    "        if room_t['cornermap'][j] == 5 or room_t['cornermap'][j] == 3:\n",
    "            mp_msk = edg[:, :, 1] > 255 * 0.1\n",
    "        elif room_t['cornermap'][j] == 1:\n",
    "            mp_msk = edg[:, :, 1] > 255 * 0.1\n",
    "\n",
    "            mp_t = ((corn[:, :, 2] + np.fliplr(corn_f[:, :, 2])) / 2.0).copy()\n",
    "            mp_t[:, 0] = 0;\n",
    "            mp_t[:, im_w - 1] = 0\n",
    "            mp_t[0, :] = 0\n",
    "            mp_t[im_h - 1, :] = 0\n",
    "            mp_t = mp_t * mp_msk\n",
    "\n",
    "            flat = np.ravel(mp_t, order='F')\n",
    "\n",
    "            pt = np.argmax(flat)\n",
    "            pt_x, _ = np.unravel_index(pt, mp_t.shape)\n",
    "\n",
    "            mp_msk[:, :(max(pt_x - 50, 1) + 1)] = 0\n",
    "            mp_msk[:, min(pt_x + 50, im_w - 1):] = 0\n",
    "        elif room_t['cornermap'][j] == 7:\n",
    "            mp_msk = edg[:, :, 1] > 255 * 0.1\n",
    "\n",
    "            mp_t = ((corn[:, :, 4] + np.fliplr(corn_f[:, :, 4])) / 2.0).copy()\n",
    "            mp_t[:, 0] = 0;\n",
    "            mp_t[:, im_w - 1] = 0\n",
    "            mp_t[0, :] = 0\n",
    "            mp_t[im_h - 1, :] = 0\n",
    "            mp_t = mp_t * mp_msk\n",
    "\n",
    "            flat = np.ravel(mp_t, order='F')\n",
    "\n",
    "            pt = np.argmax(flat)\n",
    "            pt_x, _ = np.unravel_index(pt, mp_t.shape)\n",
    "\n",
    "            mp_msk[:, :(max(pt_x - 50, 1) + 1)] = 0\n",
    "            mp_msk[:, min(pt_x + 50, im_w - 1):] = 0\n",
    "        elif room_t['cornermap'][j] == 8 or room_t['cornermap'][j] == 2:\n",
    "            mp_msk = edg[:, :, 0] > 255 * 0.1\n",
    "        elif room_t['cornermap'][j] == 4 or room_t['cornermap'][j] == 6:\n",
    "            mp_msk = edg[:, :, 2] > 255 * 0.1\n",
    "\n",
    "    else:\n",
    "        raise Exception(f'Room type {room_t[\"typeid\"]} not supported yet!')\n",
    "\n",
    "    # ctr += 1\n",
    "    # plt.figure()\n",
    "    # plt.imshow(mp)\n",
    "    # plt.title(f'mp_{ctr}')\n",
    "\n",
    "    mp = mp * mp_msk\n",
    "\n",
    "    # plt.figure()\n",
    "    # plt.title(f'mp_post_{ctr}')\n",
    "    # plt.imshow(mp)\n",
    "\n",
    "    # plt.figure()\n",
    "    # plt.title(f'mp_msk_{ctr}')\n",
    "    # plt.imshow(mp_msk)\n",
    "\n",
    "    # Different order than in Matlab because Matlab arrays are column-first, whereas in numpy arrays are row-first\n",
    "    # Although indexing starts with row, as in numpy\n",
    "    pt = np.argmax(np.ravel(mp, order='F') / 2)\n",
    "    pt_y, pt_x = np.unravel_index(pt, mp.shape)\n",
    "\n",
    "    print(f\"XDEBUG: {room_t['cornermap'][j]} pt_x={pt_x}, pt_y={pt_y}\")\n",
    "\n",
    "    point.append([pt_x, pt_y])\n",
    "\n",
    "point = np.array(point)\n",
    "pprint(point)"
   ]
  },
  {
   "cell_type": "code",
   "execution_count": null,
   "metadata": {
    "ExecuteTime": {
     "end_time": "2023-07-30T16:27:50.379615369Z",
     "start_time": "2023-07-30T16:27:50.198941100Z"
    }
   },
   "outputs": [],
   "source": [
    "point_res = np.array([\n",
    "    point[:, 1],\n",
    "    point[:, 0]\n",
    "]).T  # Transpose to match Matlab output\n",
    "\n",
    "# Basically is the same result as point:\n",
    "# assert np.allclose(point, point_res)\n",
    "\n",
    "point_res, point_res.shape"
   ]
  },
  {
   "cell_type": "code",
   "execution_count": null,
   "metadata": {
    "ExecuteTime": {
     "end_time": "2023-07-30T16:27:50.380569074Z",
     "start_time": "2023-07-30T16:27:50.199053935Z"
    }
   },
   "outputs": [],
   "source": [
    "cor_res = im_res / np.array([im_w, im_h])\n",
    "\n",
    "cor_res"
   ]
  },
  {
   "cell_type": "code",
   "execution_count": null,
   "metadata": {
    "ExecuteTime": {
     "end_time": "2023-07-30T16:27:50.380780637Z",
     "start_time": "2023-07-30T16:27:50.242980221Z"
    }
   },
   "outputs": [],
   "source": [
    "point_ref_res = (point_res * cor_res)\n",
    "\n",
    "# [[y, x]]\n",
    "point_ref_res"
   ]
  },
  {
   "cell_type": "code",
   "execution_count": null,
   "metadata": {
    "ExecuteTime": {
     "end_time": "2023-07-30T16:27:50.380956165Z",
     "start_time": "2023-07-30T16:27:50.243168364Z"
    }
   },
   "outputs": [],
   "source": [
    "point_ref_res[point_ref_res[:, 0] > im_res[1], 0] = im_res[1]  # Exceeds height\n",
    "point_ref_res[point_ref_res[:, 1] > im_res[0], 0] = im_res[0]  # Exceeds width\n",
    "point_ref_res[point_ref_res < 0] = 0\n",
    "point_ref_res"
   ]
  },
  {
   "cell_type": "code",
   "execution_count": null,
   "metadata": {
    "ExecuteTime": {
     "end_time": "2023-07-30T16:27:50.381126030Z",
     "start_time": "2023-07-30T16:27:50.243301191Z"
    }
   },
   "outputs": [],
   "source": [
    "# Refine point\n",
    "point = point_ref_res\n",
    "point_ref = point.copy()\n",
    "\n",
    "point"
   ]
  },
  {
   "cell_type": "code",
   "execution_count": null,
   "metadata": {
    "ExecuteTime": {
     "end_time": "2023-07-30T16:27:50.381302817Z",
     "start_time": "2023-07-30T16:27:50.243421244Z"
    }
   },
   "outputs": [],
   "source": [
    "# [0 0; 0 im_res(1)+0.01; im_res(2)+0.01 im_res(1)+0.01; im_res(2)+0.01 0]\n",
    "P = np.array([\n",
    "    [0, 0],\n",
    "    [0, im_res[0] + 0.01],\n",
    "    [im_res[1] + 0.01, im_res[0] + 0.01],\n",
    "    [im_res[1] + 0.01, 0]\n",
    "])\n",
    "P = P.T\n",
    "\n",
    "P"
   ]
  },
  {
   "cell_type": "code",
   "execution_count": null,
   "metadata": {
    "ExecuteTime": {
     "end_time": "2023-07-30T16:27:50.381462322Z",
     "start_time": "2023-07-30T16:27:50.243535761Z"
    }
   },
   "outputs": [],
   "source": [
    "P = np.hstack((P, P[:, 0][:, None]))\n",
    "\n",
    "P"
   ]
  },
  {
   "cell_type": "code",
   "execution_count": null,
   "metadata": {
    "ExecuteTime": {
     "end_time": "2023-07-30T16:27:50.472932950Z",
     "start_time": "2023-07-30T16:27:50.286809550Z"
    }
   },
   "outputs": [],
   "source": [
    "def seg2poly(s1, P):\n",
    "    '''\n",
    "    Check if a line segment s intersects with a polygon P.\n",
    "\n",
    "    Parameteres:\n",
    "        s: (2 x 2) array where\n",
    "            s[:, 0] is the first point\n",
    "            s[:, 1] is the second point of the segment\n",
    "        P is (2 x n) array, each column is a vertice\n",
    "    \n",
    "    Returns:\n",
    "        A (2 x m) array, each column is an intersecting point\n",
    "\n",
    "    '''\n",
    "    ...\n",
    "\n",
    "    a = np.expand_dims(s1[:, 0], axis=1)\n",
    "    M = P - a\n",
    "    print(f'M: {M}')\n",
    "\n",
    "    b = (np.expand_dims(s1[:, 1], axis=1) - a)\n",
    "    print(f'b: {b}')\n",
    "    b = np.array([b[0, 0], b[1, 0]])\n",
    "    print(f'b: {b}')\n",
    "\n",
    "    # In the original code it is [b(2) - b(1)] * M\n",
    "    x = np.array([b[1], -b[0]]).dot(M)\n",
    "    print(f'x: {x}')\n",
    "\n",
    "    sx = np.sign(x)\n",
    "    print(f'sx: {sx}')\n",
    "\n",
    "    ind = (sx[0:-1] * sx[1:]) <= 0\n",
    "    print(f'ind: {ind}')\n",
    "\n",
    "    if np.any(ind):\n",
    "        ind = np.where(ind)\n",
    "        print(f'ind: {ind}')\n",
    "        # Cross point to the y-axis (along the segment)\n",
    "        x1 = x[ind]\n",
    "        x2 = x[ind + np.array([1])][0]\n",
    "        print(f'ind + np.array([1]): {ind + np.array([1])}')\n",
    "        print(f'x[ind + np.array([1])]: {x[ind + np.array([1])]}')\n",
    "        print(f'x1: {x1}, x2: {x2}')\n",
    "\n",
    "        d = b / (b[0] ** 2 + b[1] ** 2)\n",
    "        print(f'b: {b}')\n",
    "        print(f'd: {d}')\n",
    "\n",
    "        print(f'M[:, ind]: {M[:, ind]}')\n",
    "        print(f'M[:, ind].squeeze(): {M[:, ind].squeeze()}')\n",
    "        y1 = d.dot(M[:, ind].squeeze())\n",
    "        y2 = d.dot(M[:, ind + np.array([1])].squeeze())\n",
    "        print(f'y1: {y1}')\n",
    "        print(f'y2: {y2}')\n",
    "\n",
    "        dx = x2 - x1\n",
    "        print(f'dx: {dx}')\n",
    "\n",
    "        # We won't bother with the degenerate case of dx=0 and x1=0\n",
    "        y = (y1 * x2 - y2 * x1) / dx\n",
    "        print(f'y: {y}')\n",
    "\n",
    "        # Check if the cross point is inside the segment\n",
    "        ind = np.logical_and(y >= 0, y < 1)\n",
    "        print(f'ind: {ind}')\n",
    "        if np.any(ind):\n",
    "            print('aaa')\n",
    "            X = a.squeeze() + b * y[np.where(ind)]\n",
    "            print(f'X: {X}')\n",
    "            # print(f'b * y[np.where(ind)]: {b * y[np.where(ind)]}')\n",
    "            # print(f'a: {a}')\n",
    "            print(f'a.squeeze(): {a.squeeze()}')\n",
    "            # print(f'np.where(ind): {np.where(ind)}')\n",
    "            # print(f'y[np.where(ind)]: {y[np.where(ind)]}')\n",
    "        else:\n",
    "            print('bbb')\n",
    "            X = np.zeros((2,))\n",
    "    else:\n",
    "        print('ccc')\n",
    "        X = np.zeros((2,))\n",
    "\n",
    "    # print('\\t returning', X)\n",
    "    return X\n",
    "\n",
    "\n",
    "t_s1 = np.array([\n",
    "    [157.0, -100.0],\n",
    "    [331.0, 530.8889]\n",
    "])\n",
    "t_P = np.array([\n",
    "    [0.0, 0.0, 512.01, 512.01, 0.0],\n",
    "    [0.0, 512.01, 512.01, 0.0, 0.0]\n",
    "])\n",
    "\n",
    "res = seg2poly(t_s1, t_P)\n",
    "assert np.allclose(res, np.array([0.0, 453.1111]))\n",
    "res"
   ]
  },
  {
   "cell_type": "code",
   "execution_count": null,
   "metadata": {
    "ExecuteTime": {
     "end_time": "2023-07-30T16:27:50.473127017Z",
     "start_time": "2023-07-30T16:27:50.287041100Z"
    }
   },
   "outputs": [],
   "source": [
    "# Refine point\n",
    "if room_t['typeid'] == 0:\n",
    "    line_1 = np.polyfit(\n",
    "        [point[0, 0], point[1, 0]],\n",
    "        [point[0, 1], point[1, 1]],\n",
    "        1\n",
    "    )\n",
    "    s1 = np.zeros((2, 2))\n",
    "    s1[:, 0] = [point[0, 0], point[0, 1]]\n",
    "    s1[:, 1] = [-100, -100 * line_1[0] + line_1[1]]\n",
    "    X = seg2poly(s1, P)\n",
    "    point_ref[1, :] = X.T\n",
    "\n",
    "    line_1 = np.polyfit(\n",
    "        [point[2, 0], point[3, 0]],\n",
    "        [point[2, 1], point[3, 1]],\n",
    "        1\n",
    "    )\n",
    "    s1 = np.zeros((2, 2))\n",
    "    s1[:, 0] = [point[2, 0], point[2, 1]]\n",
    "    s1[:, 1] = [-100, -100 * line_1[0] + line_1[1]]\n",
    "    X = seg2poly(s1, P)\n",
    "    point_ref[3, :] = X.T\n",
    "\n",
    "    line_1 = np.polyfit(\n",
    "        [point[4, 0], point[5, 0]],\n",
    "        [point[4, 1], point[5, 1]],\n",
    "        1\n",
    "    )\n",
    "    s1 = np.zeros((2, 2))\n",
    "    s1[:, 0] = [point[4, 0], point[4, 1]]\n",
    "    s1[:, 1] = [100000, 100000 * line_1[0] + line_1[1]]\n",
    "    X = seg2poly(s1, P)\n",
    "    point_ref[5, :] = X.T\n",
    "\n",
    "    line_1 = np.polyfit(\n",
    "        [point[6, 0], point[7, 0]],\n",
    "        [point[6, 1], point[7, 1]],\n",
    "        1\n",
    "    )\n",
    "    s1 = np.zeros((2, 2))\n",
    "    s1[:, 0] = [point[6, 0], point[6, 1]]\n",
    "    s1[:, 1] = [100000, 100000 * line_1[0] + line_1[1]]\n",
    "    X = seg2poly(s1, P)\n",
    "    point_ref[7, :] = X.T\n",
    "\n",
    "elif room_t['typeid'] == 1:\n",
    "    line_1 = np.polyfit(\n",
    "        [point[0, 0], point[1, 0]],\n",
    "        [point[0, 1], point[1, 1]],\n",
    "        1\n",
    "    )\n",
    "    s1 = np.zeros((2, 2))\n",
    "    s1[:, 0] = [point[0, 0], point[0, 1]]\n",
    "    s1[:, 1] = [(-1 - line_1[1]) / line_1[0], -1]\n",
    "    X = seg2poly(s1, P)\n",
    "    point_ref[1, :] = X.T\n",
    "    \n",
    "    line_1 = np.polyfit(\n",
    "        [point[0, 0], point[2, 0]],\n",
    "        [point[0, 1], point[2, 1]],\n",
    "        1\n",
    "    )\n",
    "    s1 = np.zeros((2, 2))\n",
    "    s1[:, 0] = [point[0, 0], point[0, 1]]\n",
    "    s1[:, 1] = [-100, -100 * line_1[0] + line_1[1]]\n",
    "    X = seg2poly(s1, P)\n",
    "    point_ref[2, :] = X.T\n",
    "    \n",
    "    if point[3, 0] == point[4, 0]:\n",
    "        point[4, 0] = point[4, 0] + 0.01\n",
    "    \n",
    "    line_1 = np.polyfit(\n",
    "        [point[3, 0], point[4, 0]],\n",
    "        [point[3, 1], point[4, 1]],\n",
    "        1\n",
    "    )\n",
    "    s1 = np.zeros((2, 2))\n",
    "    s1[:, 0] = [point[3, 0], point[3, 1]]\n",
    "    s1[:, 1] = [(-1 - line_1[1]) / line_1[0], -1]\n",
    "    X = seg2poly(s1, P)\n",
    "    point_ref[4, :] = X.T\n",
    "    \n",
    "    \n",
    "    line_1 = np.polyfit(\n",
    "        [point[3, 0], point[5, 0]],\n",
    "        [point[3, 1], point[5, 1]],\n",
    "        1\n",
    "    )\n",
    "    s1 = np.zeros((2, 2))\n",
    "    s1[:, 0] = [point[3, 0], point[3, 1]]\n",
    "    s1[:, 1] = [100000, 100000 * line_1[0] + line_1[1]]\n",
    "    X = seg2poly(s1, P)\n",
    "    point_ref[5, :] = X.T\n",
    "\n",
    "elif room_t['typeid'] == 2:\n",
    "    # Do nothing\n",
    "    print(f'Doing nothing for type 2')\n",
    "    pass\n",
    "\n",
    "elif room_t['typeid'] == 3:\n",
    "    line_1 = np.polyfit(\n",
    "        [point[0, 0], point[1, 0]],\n",
    "        [point[0, 1], point[1, 1]],\n",
    "        1\n",
    "    )\n",
    "    s1 = np.zeros((2, 2))\n",
    "    s1[:, 0] = [point[0, 0], point[0, 1]]\n",
    "    s1[:, 1] = [-100, -100 * line_1[0] + line_1[1]]\n",
    "    X = seg2poly(s1, P)\n",
    "    point_ref[1, :] = X\n",
    "\n",
    "    line_1 = np.polyfit(\n",
    "        [point[0, 0], point[3, 0]],\n",
    "        [point[0, 1], point[3, 1]],\n",
    "        1\n",
    "    )\n",
    "    s1 = np.zeros((2, 2))\n",
    "    s1[:, 0] = [point[0, 0], point[0, 1]]\n",
    "    s1[:, 1] = [100000, 100000 * line_1[0] + line_1[1]]\n",
    "    X = seg2poly(s1, P)\n",
    "    point_ref[3, : ] = X\n",
    "\n",
    "    line_1 = np.polyfit(\n",
    "        [point[0, 0], point[2, 0]],\n",
    "        [point[0, 1], point[2, 1]],\n",
    "        1\n",
    "    )\n",
    "    s1 = np.zeros((2, 2))\n",
    "    s1[:, 0] = [point[0, 0], point[0, 1]]\n",
    "    s1[:, 1] = [(10000 - line_1[1]) / line_1[0], 10000]\n",
    "    X = seg2poly(s1, P)\n",
    "    point_ref[2, : ] = X\n",
    "    \n",
    "elif room_t['typeid'] == 4:\n",
    "    # Find a polynomial of degree 1 that passes through points indicated by these x and y arrays\n",
    "    # Effectivaly, this is a line\n",
    "    line_1 = np.polyfit(\n",
    "        [point[0, 0], point[1, 0]],\n",
    "        [point[0, 1], point[1, 1]],\n",
    "        1\n",
    "    )\n",
    "\n",
    "    viz = True\n",
    "    if viz:\n",
    "        xn = np.linspace(0, 512, 100)\n",
    "        yn = np.poly1d(line_1)\n",
    "        plt.plot(xn, yn(xn), [point[0, 0], point[1, 0]],\n",
    "                 [point[0, 1], point[1, 1]], 'o')\n",
    "        plt.title(f'Polynomial passing through {point[0]} and {point[1]}')\n",
    "        plt.grid()\n",
    "\n",
    "    s1 = np.zeros((2, 2))\n",
    "    s1[:, 0] = [point[0, 0], point[0, 1]]\n",
    "    s1[:, 1] = [-100, -100 * line_1[0] + line_1[1]]\n",
    "\n",
    "    X = seg2poly(s1, P)\n",
    "\n",
    "    point_ref[1, :] = X.T\n",
    "\n",
    "    if point[0, 0] == point[2, 0]:\n",
    "        point[0, 0] = point[0, 0] + 0.01\n",
    "\n",
    "    line_1 = np.polyfit(\n",
    "        [point[0, 0], point[2, 0]],\n",
    "        [point[0, 1], point[2, 1]],\n",
    "        1\n",
    "    )\n",
    "\n",
    "    s1 = np.zeros((2, 2))\n",
    "    s1[:, 0] = [point[0, 0], point[0, 1]]\n",
    "    s1[:, 1] = [(-1 - line_1[1]) / line_1[0], -1]\n",
    "    X = seg2poly(s1, P)\n",
    "    point_ref[2, :] = X.T  # Transpose is not actually necessary in numpy here\n",
    "\n",
    "    line_1 = np.polyfit(\n",
    "        [point[0, 0], point[3, 0]],\n",
    "        [point[0, 1], point[3, 1]],\n",
    "        1\n",
    "    )\n",
    "    s1 = np.zeros((2, 2))\n",
    "    s1[:, 0] = [point[0, 0], point[0, 1]]\n",
    "    s1[:, 1] = [10000, 10000 * line_1[0] + line_1[1]]\n",
    "    X = seg2poly(s1, P)\n",
    "\n",
    "    point_ref[3, :] = X.T  # Transpose is not actually necessary in numpy here\n",
    "elif room_t['typeid'] == 5:\n",
    "    line_1 = np.polyfit(\n",
    "        [point[0, 0], point[1, 0]],\n",
    "        [point[0, 1], point[1, 1]],\n",
    "        1\n",
    "    )\n",
    "    print(f'line_1: {line_1}')\n",
    "    s1 = np.zeros((2, 2))\n",
    "    s1[:, 0] = [point[0, 0], point[0, 1]]\n",
    "    s1[:, 1] = [-100, -100 * line_1[0] + line_1[1]]\n",
    "    X = seg2poly(s1, P)\n",
    "    point_ref[1, :] = X.T\n",
    "\n",
    "    line_1 = np.polyfit(\n",
    "        [point[0, 0], point[2, 0]],\n",
    "        [point[0, 1], point[2, 1]],\n",
    "        1\n",
    "    )\n",
    "    s1 = np.zeros((2, 2))\n",
    "    s1[:, 0] = [point[0, 0], point[0, 1]]\n",
    "    s1[:, 1] = [10000, 10000 * line_1[0] + line_1[1]]\n",
    "    X = seg2poly(s1, P)\n",
    "    point_ref[2, :] = X.T\n",
    "\n",
    "    line_1 = np.polyfit(\n",
    "        [point[3, 0], point[4, 0]],\n",
    "        [point[3, 1], point[4, 1]],\n",
    "        1\n",
    "    )\n",
    "    s1[:, 0] = [point[3, 0], point[3, 1]]\n",
    "    s1[:, 1] = [-100, -100 * line_1[0] + line_1[1]]\n",
    "    X = seg2poly(s1, P)\n",
    "    point_ref[4, :] = X.T\n",
    "\n",
    "    line_1 = np.polyfit(\n",
    "        [point[3, 0], point[5, 0]],\n",
    "        [point[3, 1], point[5, 1]],\n",
    "        1\n",
    "    )\n",
    "    s1[:, 0] = [point[3, 0], point[3, 1]]\n",
    "    s1[:, 1] = [10000, 10000 * line_1[0] + line_1[1]]\n",
    "    X = seg2poly(s1, P)\n",
    "    point_ref[5, :] = X.T\n",
    "\n",
    "elif room_t['typeid'] == 6:\n",
    "    line_1 = np.polyfit(\n",
    "        [point[0, 0], point[1, 0]],\n",
    "        [point[0, 1], point[1, 1]],\n",
    "        1\n",
    "    )\n",
    "\n",
    "    s1 = np.zeros((2, 2))\n",
    "    s1[:, 0] = [point[0, 0], point[0, 1]]\n",
    "    s1[:, 1] = [-100, -100 * line_1[0] + line_1[1]]\n",
    "    X = seg2poly(s1, P)\n",
    "    point_ref[0, :] = X.T\n",
    "\n",
    "    s1 = np.zeros((2, 2))\n",
    "    s1[:, 0] = [point[1, 0], point[1, 1]]\n",
    "    s1[:, 1] = [10000, 10000 * line_1[0] + line_1[1]]\n",
    "    X = seg2poly(s1, P)\n",
    "    point_ref[1, :] = X.T\n",
    "\n",
    "\n",
    "    line_1 = np.polyfit(\n",
    "        [point[2, 0], point[3, 0]],\n",
    "        [point[2, 1], point[3, 1]],\n",
    "        1\n",
    "    )\n",
    "\n",
    "    s1 = np.zeros((2, 2))\n",
    "    s1[:, 0] = [point[2, 0], point[2, 1]]\n",
    "    s1[:, 1] = [-100, -100 * line_1[0] + line_1[1]]\n",
    "    X = seg2poly(s1, P)\n",
    "    point_ref[2, :] = X.T\n",
    "\n",
    "    s1 = np.zeros((2, 2))\n",
    "    s1[:, 0] = [point[3, 0], point[3, 1]]\n",
    "    s1[:, 1] = [10000, 1000 * line_1[0] + line_1[1]]\n",
    "    X = seg2poly(s1, P)\n",
    "    point_ref[3, :] = X.T\n",
    "\n",
    "elif room_t['typeid'] == 7:\n",
    "    # Do nothing\n",
    "    pass\n",
    "\n",
    "elif room_t['typeid'] == 8:\n",
    "    # Do nothing\n",
    "    # pass\n",
    "    line_1 = np.polyfit(\n",
    "        [point[0, 0], point[1, 0]],\n",
    "        [point[0, 1], point[1, 1]],\n",
    "        1\n",
    "    )\n",
    "    \n",
    "    s1 = np.zeros((2, 2))\n",
    "    s1[:, 0] = [point[0, 0], point[0, 1]]\n",
    "    s1[:, 1] = [-100, -100 * line_1[0] + line_1[1]]\n",
    "    X = seg2poly(s1, P)\n",
    "    point_ref[0, :] = X.T\n",
    "\n",
    "    s1 = np.zeros((2, 2))\n",
    "    s1[:, 0] = [point[1, 0], point[1, 1]]\n",
    "    s1[:, 1] = [10000, 10000 * line_1[0] + line_1[1]]\n",
    "    X = seg2poly(s1, P)\n",
    "    point_ref[1, :] = X.T\n",
    "\n",
    "elif room_t['typeid'] == 9:\n",
    "    line_1 = np.polyfit(\n",
    "        [point[0, 0], point[1, 0]],\n",
    "        [point[0, 1], point[1, 1]],\n",
    "        1\n",
    "    )\n",
    "    \n",
    "    s1 = np.zeros((2, 2))\n",
    "    s1[:, 0] = [point[0, 0], point[0, 1]]\n",
    "    s1[:, 1] = [-100, -100 * line_1[0] + line_1[1]]\n",
    "    X = seg2poly(s1, P)\n",
    "    point_ref[0, :] = X.T\n",
    "\n",
    "    s1 = np.zeros((2, 2))\n",
    "    s1[:, 0] = [point[1, 0], point[1, 1]]\n",
    "    s1[:, 1] = [10000, 10000 * line_1[0] + line_1[1]]\n",
    "    X = seg2poly(s1, P)\n",
    "    point_ref[1, :] = X.T\n",
    "\n",
    "elif room_t['typeid'] == 10:\n",
    "    line_1 = np.polyfit(\n",
    "        [point[0, 0], point[1, 0]],\n",
    "        [point[0, 1], point[1, 1]],\n",
    "        1\n",
    "    )\n",
    "    s1 = np.zeros((2, 2))\n",
    "    s1[:, 0] = [point[0, 0], point[0, 1]]\n",
    "    s1[:, 1] = [(1 - line_1[1]) / line_1[0], -1]\n",
    "    X = seg2poly(s1, P)\n",
    "    point_ref[0, :] = X.T\n",
    "    \n",
    "    s1 = np.zeros((2, 2))\n",
    "    s1[:, 0] = [point[1, 0], point[1, 1]]\n",
    "    s1[:, 1] = [(10000 - line_1[1]) / line_1[0], 10000]\n",
    "    X = seg2poly(s1, P)\n",
    "    point_ref[1, :] = X.T\n",
    "\n",
    "else:\n",
    "    raise Exception(f'Room type {room_t[\"typeid\"]} not supported yet')\n",
    "\n"
   ]
  },
  {
   "cell_type": "code",
   "execution_count": null,
   "metadata": {
    "ExecuteTime": {
     "end_time": "2023-07-30T16:27:50.473425715Z",
     "start_time": "2023-07-30T16:27:50.287366390Z"
    }
   },
   "outputs": [],
   "source": [
    "data = {}\n",
    "data['type'] = room_t['typeid']\n",
    "data['point'] = point_ref\n",
    "data['resolution'] = im_res\n",
    "\n",
    "data"
   ]
  },
  {
   "cell_type": "code",
   "execution_count": null,
   "metadata": {},
   "outputs": [],
   "source": [
    "type_"
   ]
  },
  {
   "cell_type": "code",
   "execution_count": null,
   "metadata": {},
   "outputs": [],
   "source": [
    "type_[5]['lines']"
   ]
  },
  {
   "cell_type": "code",
   "execution_count": null,
   "metadata": {
    "ExecuteTime": {
     "end_time": "2023-07-30T16:27:50.473910117Z",
     "start_time": "2023-07-30T16:27:50.293298852Z"
    }
   },
   "outputs": [],
   "source": [
    "import numpy as np\n",
    "import cv2\n",
    "from scipy.ndimage import label, binary_erosion\n",
    "\n",
    "\n",
    "def getSegmentation(data):\n",
    "    # GETSEGMENTATION CONVERT ROOM LAYOUT TO SEGMENTATION MASK\n",
    "    #   data.type: room layout type\n",
    "    #   data.point: room corners position\n",
    "    #   data.resolution: [w h] of the image\n",
    "\n",
    "    if data['type'] == 11:\n",
    "        segment = None\n",
    "        return segment\n",
    "\n",
    "    # TODO: convert `type_` to be dict where key is typeid\n",
    "    type_data = type_[data['type']]\n",
    "\n",
    "    point = data['point']\n",
    "    # lines describes the layout line ordering in this room type\n",
    "    lines = type_data['lines']\n",
    "    print(f'lines: {lines}')\n",
    "\n",
    "    # Some room types in their type data have only one line, which results in 1d array.\n",
    "    # TODO: this could better be fixed in type_ dict\n",
    "    if len(lines.shape) == 1:\n",
    "        lines = np.expand_dims(lines, axis=0)\n",
    "\n",
    "    # Convert 'point' to integer type\n",
    "    point = point.astype(int)\n",
    "    print(f'point: {point}')\n",
    "\n",
    "    # Select first point using room lines info\n",
    "    print(f'lines[:, 0] - 1: {lines[:, 0] - 1}')\n",
    "    pt1s = point[lines[:, 0] - 1]\n",
    "    print(f'pt1s: {pt1s}')\n",
    "    pt1s[pt1s <= 0] = 1\n",
    "    pt1s[pt1s[:, 0] > data['resolution'][0], 0] = data['resolution'][0]\n",
    "    pt1s[pt1s[:, 1] > data['resolution'][1], 1] = data['resolution'][1]\n",
    "    print(f'pt1s: {pt1s}')\n",
    "\n",
    "    pt2s = point[lines[:, 1] - 1]\n",
    "    print(f'pt2s: {pt2s}')\n",
    "    pt2s[pt2s <= 0] = 1\n",
    "    pt2s[pt2s[:, 0] > data['resolution'][0], 0] = data['resolution'][0]\n",
    "    pt2s[pt2s[:, 1] > data['resolution'][1], 1] = data['resolution'][1]\n",
    "\n",
    "    lineplot = np.zeros(data['resolution'], dtype=np.uint8)\n",
    "    line_coords = []\n",
    "    for pt1, pt2 in zip(pt1s, pt2s):\n",
    "        pt1 = tuple(pt1)\n",
    "        pt2 = tuple(pt2)\n",
    "        lineplot = cv2.line(lineplot, pt1, pt2, 1, 1)\n",
    "        line_coords.append((pt1, pt2))\n",
    "\n",
    "    labeled_array, num_features = label(1 - lineplot)\n",
    "\n",
    "    segment = np.zeros(data['resolution'], dtype=int)\n",
    "    for i in range(1, num_features + 1):\n",
    "        segment[labeled_array == i] = i\n",
    "\n",
    "    se = np.ones((2, 2), dtype=bool)  # Equivalent to strel('disk', 2) in MATLAB\n",
    "    # Make lines wider for better visalization\n",
    "    segment = binary_erosion(segment, structure=se)\n",
    "\n",
    "    return segment, line_coords\n",
    "\n",
    "\n",
    "segm, lines = getSegmentation(data)\n",
    "segm.shape, lines"
   ]
  },
  {
   "cell_type": "code",
   "execution_count": null,
   "metadata": {},
   "outputs": [],
   "source": [
    "help(cv2.line)"
   ]
  },
  {
   "cell_type": "code",
   "execution_count": null,
   "metadata": {
    "ExecuteTime": {
     "end_time": "2023-07-30T16:27:50.888813782Z",
     "start_time": "2023-07-30T16:27:50.327433563Z"
    }
   },
   "outputs": [],
   "source": [
    "plt.imshow(segm)\n",
    "plt.grid();"
   ]
  },
  {
   "cell_type": "code",
   "execution_count": null,
   "metadata": {
    "ExecuteTime": {
     "end_time": "2023-07-30T16:27:50.889111069Z",
     "start_time": "2023-07-30T16:27:50.510805384Z"
    }
   },
   "outputs": [],
   "source": [
    "data"
   ]
  },
  {
   "cell_type": "code",
   "execution_count": null,
   "metadata": {
    "ExecuteTime": {
     "end_time": "2023-07-30T16:28:15.973717638Z",
     "start_time": "2023-07-30T16:28:15.767489388Z"
    }
   },
   "outputs": [],
   "source": [
    "image = np.array(im).copy()\n",
    "colors = [\n",
    "    (255, 0, 0),\n",
    "    (0, 255, 0),\n",
    "    (0, 0, 255),\n",
    "    (255, 255, 0),\n",
    "    (255, 0, 255),\n",
    "    (0, 255, 255),\n",
    "    (255, 255, 255),\n",
    "    (127, 50, 0)\n",
    "]\n",
    "for (p1, p2), color in zip(lines, colors):\n",
    "    print(p1, p2)\n",
    "\n",
    "    image = cv2.line(image, p1, p2, color, 3)\n",
    "\n",
    "plt.imshow(image);"
   ]
  },
  {
   "cell_type": "code",
   "execution_count": null,
   "metadata": {
    "ExecuteTime": {
     "end_time": "2023-07-30T16:27:50.907754898Z",
     "start_time": "2023-07-30T16:27:50.684986505Z"
    }
   },
   "outputs": [],
   "source": [
    "lines"
   ]
  },
  {
   "cell_type": "code",
   "execution_count": null,
   "metadata": {
    "ExecuteTime": {
     "end_time": "2023-07-30T16:27:50.907858248Z",
     "start_time": "2023-07-30T16:27:50.726891955Z"
    }
   },
   "outputs": [],
   "source": []
  },
  {
   "cell_type": "code",
   "execution_count": null,
   "metadata": {
    "ExecuteTime": {
     "end_time": "2023-07-30T16:27:50.907938165Z",
     "start_time": "2023-07-30T16:27:50.726983824Z"
    }
   },
   "outputs": [],
   "source": []
  },
  {
   "cell_type": "code",
   "execution_count": null,
   "metadata": {
    "ExecuteTime": {
     "end_time": "2023-07-30T16:27:50.908011668Z",
     "start_time": "2023-07-30T16:27:50.727029712Z"
    }
   },
   "outputs": [],
   "source": []
  },
  {
   "cell_type": "code",
   "execution_count": null,
   "metadata": {
    "ExecuteTime": {
     "end_time": "2023-07-30T16:27:50.908082960Z",
     "start_time": "2023-07-30T16:27:50.727081812Z"
    }
   },
   "outputs": [],
   "source": []
  },
  {
   "cell_type": "code",
   "execution_count": null,
   "metadata": {
    "ExecuteTime": {
     "end_time": "2023-07-30T16:27:50.908155557Z",
     "start_time": "2023-07-30T16:27:50.727134794Z"
    }
   },
   "outputs": [],
   "source": []
  },
  {
   "cell_type": "code",
   "execution_count": null,
   "metadata": {
    "ExecuteTime": {
     "end_time": "2023-07-30T16:27:50.908225078Z",
     "start_time": "2023-07-30T16:27:50.727180031Z"
    }
   },
   "outputs": [],
   "source": []
  },
  {
   "cell_type": "code",
   "execution_count": null,
   "metadata": {
    "ExecuteTime": {
     "end_time": "2023-07-30T16:27:50.908309164Z",
     "start_time": "2023-07-30T16:27:50.727267319Z"
    }
   },
   "outputs": [],
   "source": []
  },
  {
   "cell_type": "code",
   "execution_count": null,
   "metadata": {
    "ExecuteTime": {
     "end_time": "2023-07-30T16:27:50.908498634Z",
     "start_time": "2023-07-30T16:27:50.727312605Z"
    }
   },
   "outputs": [],
   "source": [
    "import mat73\n",
    "\n",
    "mat_ts = mat73.loadmat('./result/res_lsun_ts_512_joint/mat_ts_v73/sun_agjyxmbsjvhuoaau.mat')\n",
    "layout = mat_ts['result']['layout']\n",
    "layout.shape"
   ]
  },
  {
   "cell_type": "code",
   "execution_count": null,
   "metadata": {
    "ExecuteTime": {
     "end_time": "2023-07-30T16:27:51.457996063Z",
     "start_time": "2023-07-30T16:27:50.727367620Z"
    }
   },
   "outputs": [],
   "source": [
    "! pwd"
   ]
  },
  {
   "cell_type": "code",
   "execution_count": null,
   "metadata": {
    "ExecuteTime": {
     "end_time": "2023-07-30T16:27:51.678028646Z",
     "start_time": "2023-07-30T16:27:51.474362240Z"
    }
   },
   "outputs": [],
   "source": [
    "plt.imshow(layout);"
   ]
  },
  {
   "cell_type": "code",
   "execution_count": null,
   "metadata": {
    "ExecuteTime": {
     "end_time": "2023-07-30T16:27:51.680380495Z",
     "start_time": "2023-07-30T16:27:51.677277858Z"
    }
   },
   "outputs": [],
   "source": []
  }
 ],
 "metadata": {
  "kernelspec": {
   "display_name": "layoutnet-perspective",
   "language": "python",
   "name": "python3"
  },
  "language_info": {
   "codemirror_mode": {
    "name": "ipython",
    "version": 3
   },
   "file_extension": ".py",
   "mimetype": "text/x-python",
   "name": "python",
   "nbconvert_exporter": "python",
   "pygments_lexer": "ipython3",
   "version": "3.9.16"
  },
  "orig_nbformat": 4
 },
 "nbformat": 4,
 "nbformat_minor": 2
}
